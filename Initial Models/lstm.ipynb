{
 "cells": [
  {
   "cell_type": "code",
   "execution_count": null,
   "metadata": {
    "execution": {
     "iopub.execute_input": "2025-03-23T18:49:57.910618Z",
     "iopub.status.busy": "2025-03-23T18:49:57.910237Z",
     "iopub.status.idle": "2025-03-23T18:49:57.916070Z",
     "shell.execute_reply": "2025-03-23T18:49:57.915297Z",
     "shell.execute_reply.started": "2025-03-23T18:49:57.910590Z"
    },
    "trusted": true
   },
   "outputs": [],
   "source": [
    "import json\n",
    "import re\n",
    "import string\n",
    "import nltk\n",
    "from nltk.tokenize import word_tokenize\n",
    "from nltk.corpus import stopwords\n",
    "import torch\n",
    "import torch.nn as nn\n",
    "from torch.utils.data import Dataset, DataLoader\n",
    "from torch.nn.utils.rnn import pad_sequence\n",
    "from sklearn.model_selection import train_test_split\n",
    "from sklearn.metrics import accuracy_score, f1_score, precision_recall_fscore_support\n",
    "import pandas as pd\n",
    "from collections import Counter\n",
    "import torch.optim as optim\n",
    "import spacy\n",
    "import json\n",
    "import re\n",
    "import spacy\n",
    "from tqdm import tqdm\n",
    "import torch\n",
    "from torch.nn.utils.rnn import pad_sequence\n",
    "from torch.utils.data import Dataset, DataLoader"
   ]
  },
  {
   "cell_type": "code",
   "execution_count": null,
   "metadata": {},
   "outputs": [],
   "source": [
    "nlp = spacy.load(\"en_core_web_sm\")\n",
    "stop_words = nlp.Defaults.stop_words\n",
    "punctuation = set('!\"#$%&\\'()*+,-./:;<=>?@[\\\\]^_`{|}~')\n",
    "\n",
    "def func_preprocess(text):\n",
    "    text = text.lower()\n",
    "    tokens = []\n",
    "    text = text.replace('\\n', ' ')\n",
    "    text = re.sub(r'[^\\x00-\\x7F]+', '', text)  \n",
    "    doc = nlp(text)\n",
    "    for token in doc:\n",
    "        if token.text not in punctuation and token.text not in stop_words and not token.text.isspace():\n",
    "            tokens.append(token.text)\n",
    "    return ' '.join(tokens)"
   ]
  },
  {
   "cell_type": "code",
   "execution_count": null,
   "metadata": {
    "execution": {
     "iopub.execute_input": "2025-03-23T19:36:30.793404Z",
     "iopub.status.busy": "2025-03-23T19:36:30.793076Z",
     "iopub.status.idle": "2025-03-23T19:44:37.521837Z",
     "shell.execute_reply": "2025-03-23T19:44:37.520857Z",
     "shell.execute_reply.started": "2025-03-23T19:36:30.793381Z"
    },
    "trusted": true
   },
   "outputs": [
    {
     "name": "stderr",
     "output_type": "stream",
     "text": [
      "100%|██████████| 189/189 [01:18<00:00,  2.42it/s]\n",
      "100%|██████████| 21/21 [00:07<00:00,  2.71it/s]\n"
     ]
    }
   ],
   "source": [
    "\n",
    "def main_preproces_func(data_path, k=1):\n",
    "    message_list = []\n",
    "    data = []\n",
    "    with open(data_path, 'r') as file:\n",
    "        for line in file:\n",
    "            parsed_line = json.loads(line)\n",
    "            data.append(parsed_line)\n",
    "    label_list = []\n",
    "    for i in tqdm(data):\n",
    "        messages = i[\"messages\"]\n",
    "        labels = i[\"sender_labels\"]\n",
    "        for i in range(len(messages)):\n",
    "            label_2 = str(labels[i]).strip().lower()\n",
    "            if label_2 == \"true\":\n",
    "                label = 1\n",
    "            elif label_2 == \"false\":\n",
    "                label = 0\n",
    "            else:\n",
    "                continue\n",
    "            message_list.append(func_preprocess(messages[i]))\n",
    "            label_list.append(label)\n",
    "    return message_list, label_list\n",
    "train_texts, train_labels = main_preproces_func(\"train.jsonl\")\n",
    "val_texts, val_labels = main_preproces_func(\"validation.jsonl\")\n"
   ]
  },
  {
   "cell_type": "code",
   "execution_count": null,
   "metadata": {},
   "outputs": [],
   "source": [
    "\n",
    "nlp = spacy.load(\"en_core_web_sm\")\n",
    "\n",
    "def func_vocab(corpus, min_freq=1):\n",
    "    tok_c = {}\n",
    "    vocab = {}\n",
    "    words = []\n",
    "    index = 2\n",
    "    for doc in nlp.pipe(corpus):\n",
    "        for tok in doc:\n",
    "            if not tok.is_punct and not tok.is_space:\n",
    "                word = tok.text.lower()\n",
    "                tok_c[word] = tok_c.get(word, 0) + 1\n",
    "    for word, c in tok_c.items():\n",
    "        if c >= min_freq:\n",
    "            words.append(word)\n",
    "    words.sort()\n",
    "    for word in words:\n",
    "        vocab[word] = index\n",
    "        index += 1\n",
    "    vocab['<PAD>'] = 0\n",
    "    vocab['<UNK>'] = 1\n",
    "    return vocab"
   ]
  },
  {
   "cell_type": "code",
   "execution_count": null,
   "metadata": {},
   "outputs": [],
   "source": [
    "def token_func(text, vocabulary):\n",
    "    doc = nlp(text)\n",
    "    token_id = []\n",
    "    for token in doc:\n",
    "        if not token.is_punct and not token.is_space:\n",
    "            word = token.text.lower()\n",
    "            token = vocabulary.get(word, vocabulary['<UNK>'])\n",
    "            token_id.append(token)\n",
    "    return token_id"
   ]
  },
  {
   "cell_type": "code",
   "execution_count": null,
   "metadata": {
    "trusted": true
   },
   "outputs": [],
   "source": [
    "def process_data(corpus, labels, vocab):\n",
    "    toks = []\n",
    "    for txt in corpus:\n",
    "        ids = token_func(txt, vocab)\n",
    "        t = torch.tensor(ids)\n",
    "        toks.append(t)\n",
    "    padded = pad_sequence(toks, batch_first=True, padding_value=vocab['<PAD>'])\n",
    "    lbls = torch.tensor(labels, dtype=torch.long)\n",
    "    return padded, lbls"
   ]
  },
  {
   "cell_type": "code",
   "execution_count": null,
   "metadata": {},
   "outputs": [],
   "source": [
    "\n",
    "vocabulary = func_vocab(train_texts)\n",
    "\n",
    "train_inputs, train_labels_tensor = process_data(train_texts, train_labels, vocabulary)\n",
    "val_inputs, val_labels_tensor = process_data(val_texts, val_labels, vocabulary)"
   ]
  },
  {
   "cell_type": "code",
   "execution_count": null,
   "metadata": {
    "trusted": true
   },
   "outputs": [],
   "source": [
    "\n",
    "class DataClass(Dataset):\n",
    "    def __init__(self, texts, labels):\n",
    "        self.texts = texts\n",
    "        self.labels = labels\n",
    "\n",
    "    def __len__(self):\n",
    "        return len(self.labels)\n",
    "\n",
    "    def __getitem__(self, idx):\n",
    "        return self.texts[idx], self.labels[idx]\n",
    "\n"
   ]
  },
  {
   "cell_type": "code",
   "execution_count": null,
   "metadata": {},
   "outputs": [],
   "source": [
    "train_df = DataClass(train_inputs, train_labels_tensor)\n",
    "val_df = DataClass(val_inputs, val_labels_tensor)\n",
    "train_loader = DataLoader(train_df, batch_size=32, shuffle=True)\n",
    "val_loader = DataLoader(val_df, batch_size=32)"
   ]
  },
  {
   "cell_type": "code",
   "execution_count": null,
   "metadata": {},
   "outputs": [],
   "source": [
    "class LSTM(nn.Module):\n",
    "    def __init__(self, vocab_size, embedding_dim=100, hidden_dim=128, output_dim=2, \n",
    "                 num_layers=1, bidirectional=False, dropout=0.3, pad_idx=0):\n",
    "        super(LSTM, self).__init__()\n",
    "        self.embedding = nn.Embedding(vocab_size, embedding_dim, padding_idx=pad_idx)\n",
    "        self.lstm = nn.LSTM(embedding_dim, hidden_dim, num_layers=num_layers,\n",
    "                            bidirectional=bidirectional, batch_first=True)\n",
    "        lstm_output_dim = hidden_dim * 2 if bidirectional else hidden_dim\n",
    "        self.fc = nn.Linear(lstm_output_dim, output_dim)\n",
    "        self.dropout = nn.Dropout(dropout)\n",
    "    def forward(self, text, text_lengths):\n",
    "        embedded = self.dropout(self.embedding(text))  \n",
    "        packed_embedded = nn.utils.rnn.pack_padded_sequence(embedded, text_lengths.cpu(), \n",
    "                                                            batch_first=True, enforce_sorted=False)\n",
    "        packed_output, (hidden, cell) = self.lstm(packed_embedded)\n",
    "        if self.lstm.bidirectional:\n",
    "            hidden = self.dropout(torch.cat((hidden[-2], hidden[-1]), dim=1))\n",
    "        else:\n",
    "            hidden = self.dropout(hidden[-1])\n",
    "        \n",
    "        return self.fc(hidden) "
   ]
  },
  {
   "cell_type": "code",
   "execution_count": null,
   "metadata": {},
   "outputs": [],
   "source": [
    "def device_func():\n",
    "    return torch.device('cuda' if torch.cuda.is_available() else 'cpu')"
   ]
  },
  {
   "cell_type": "code",
   "execution_count": null,
   "metadata": {},
   "outputs": [],
   "source": [
    "def class_weight_func(labels):\n",
    "    label_dist = Counter(labels)\n",
    "    num_class = 2\n",
    "    total_c = sum(label_dist.values())\n",
    "    class_weights = [\n",
    "        total_c / (num_class * label_dist[0]),  \n",
    "        total_c/ (num_class * label_dist[1])  \n",
    "    ]\n",
    "    return torch.tensor(class_weights, dtype=torch.float)"
   ]
  },
  {
   "cell_type": "code",
   "execution_count": null,
   "metadata": {},
   "outputs": [],
   "source": [
    "\n",
    "def initialize_model(vocab_size, class_weights, device):\n",
    "    model = LSTM(vocab_size=vocab_size, bidirectional=True).to(device)\n",
    "    criterion = nn.CrossEntropyLoss(weight=class_weights.to(device))\n",
    "    optimizer = optim.Adam(model.parameters(), lr=0.001)\n",
    "    return model, criterion, optimizer"
   ]
  },
  {
   "cell_type": "code",
   "execution_count": null,
   "metadata": {},
   "outputs": [],
   "source": [
    "def process_batch(model, batch_inputs, batch_labels, criterion, optimizer, device, vocab):\n",
    "    # Move inputs and labels to the specified device (CPU/GPU)\n",
    "    batch_inputs = batch_inputs.to(device)\n",
    "    batch_labels = batch_labels.to(device)\n",
    "\n",
    "    # Clear previous gradients\n",
    "    optimizer.zero_grad()\n",
    "    seq_lens = torch.sum(batch_inputs != vocab['<PAD>'], dim=1)\n",
    "\n",
    "    # Filter out sequences with zero length\n",
    "    valid_mask = seq_lens > 0\n",
    "    batch_inputs = batch_inputs[valid_mask]\n",
    "    batch_labels = batch_labels[valid_mask]\n",
    "    seq_lens = seq_lens[valid_mask]\n",
    "    # if len(batch_inputs) == 0:\n",
    "    #     return 0.0  \n",
    "    logits = model(batch_inputs, seq_lens)\n",
    "    loss = criterion(logits, batch_labels)\n",
    "    loss.backward()\n",
    "    optimizer.step()\n",
    "    return loss.item()\n"
   ]
  },
  {
   "cell_type": "code",
   "execution_count": null,
   "metadata": {},
   "outputs": [],
   "source": [
    "def train_epoch(model, train_loader, criterion, optimizer, device, vocabulary):\n",
    "    model.train()\n",
    "    total_loss = 0\n",
    "    for batch_inputs, batch_labels in train_loader:\n",
    "        loss = process_batch(model, batch_inputs, batch_labels, criterion, optimizer, device, vocabulary)\n",
    "        total_loss += loss\n",
    "    return total_loss / len(train_loader)"
   ]
  },
  {
   "cell_type": "code",
   "execution_count": null,
   "metadata": {},
   "outputs": [],
   "source": [
    "def batch_func(model, x, y, crit, device, vocab):\n",
    "    x = x.to(device)\n",
    "    y = y.to(device)\n",
    "    seq_length = torch.sum(x != vocab['<PAD>'], dim=1)\n",
    "    valid = seq_length > 0\n",
    "    x = x[valid]\n",
    "    y = y[valid]\n",
    "    seq_length = seq_length[valid]\n",
    "    # if len(x) == 0:\n",
    "    #     return 0.0\n",
    "    logits = model(x, seq_length)\n",
    "    loss = crit(logits, y)\n",
    "    return loss.item()\n",
    "def evaluate_epoch(model, loader, crit, device, vocab):\n",
    "    model.eval()\n",
    "    total_loss = 0\n",
    "    with torch.no_grad():\n",
    "        for i, j in loader:\n",
    "            loss = batch_func(model, i, j, crit, device, vocab)\n",
    "            total_loss += loss\n",
    "    return total_loss / len(loader)\n"
   ]
  },
  {
   "cell_type": "code",
   "execution_count": null,
   "metadata": {},
   "outputs": [],
   "source": []
  },
  {
   "cell_type": "code",
   "execution_count": null,
   "metadata": {
    "trusted": true
   },
   "outputs": [
    {
     "name": "stdout",
     "output_type": "stream",
     "text": [
      "Epoch 1 - Training Loss: 0.6809 - Validation Loss: 0.6472\n",
      "Epoch 2 - Training Loss: 0.6352 - Validation Loss: 0.6508\n",
      "Epoch 3 - Training Loss: 0.5581 - Validation Loss: 0.7013\n",
      "Epoch 4 - Training Loss: 0.4829 - Validation Loss: 0.7203\n",
      "Epoch 5 - Training Loss: 0.4119 - Validation Loss: 0.7926\n",
      "Epoch 6 - Training Loss: 0.3434 - Validation Loss: 0.8385\n",
      "Epoch 7 - Training Loss: 0.2703 - Validation Loss: 1.0883\n",
      "Epoch 8 - Training Loss: 0.2238 - Validation Loss: 1.2139\n",
      "Epoch 9 - Training Loss: 0.2039 - Validation Loss: 1.3219\n",
      "Epoch 10 - Training Loss: 0.1804 - Validation Loss: 1.3513\n",
      "Epoch 11 - Training Loss: 0.1641 - Validation Loss: 1.3790\n",
      "Epoch 12 - Training Loss: 0.1779 - Validation Loss: 1.2792\n",
      "Epoch 13 - Training Loss: 0.1465 - Validation Loss: 1.3353\n",
      "Epoch 14 - Training Loss: 0.1260 - Validation Loss: 1.4408\n",
      "Epoch 15 - Training Loss: 0.1237 - Validation Loss: 1.5732\n"
     ]
    },
    {
     "data": {
      "image/png": "[encoded data removed]",
      "text/plain": [
       "<Figure size 640x480 with 1 Axes>"
      ]
     },
     "metadata": {},
     "output_type": "display_data"
    }
   ],
   "source": [
    "\n",
    "train_losses = []\n",
    "val_losses = []\n",
    "def plot_losses(training_losses, validation_losses):\n",
    "    plt.plot(training_losses, label='Training Loss')\n",
    "    plt.plot(validation_losses, label='Validation Loss')\n",
    "    plt.xlabel('Epoch')\n",
    "    plt.ylabel('Loss')\n",
    "    plt.title('Training and Validation Loss')\n",
    "    plt.legend()\n",
    "    plt.show()\n",
    "\n",
    "device = device_func()\n",
    "class_weights = class_weight_func(train_labels)\n",
    "model, criterion, optimizer = initialize_model(len(vocabulary), class_weights, device)\n",
    "\n",
    "for epoch in range(15):\n",
    "    train_loss = train_epoch(model, train_loader, criterion, optimizer, device, vocabulary)\n",
    "    val_loss = evaluate_epoch(model, val_loader, criterion, device, vocabulary)\n",
    "    \n",
    "    train_losses.append(train_loss)\n",
    "    val_losses.append(val_loss)\n",
    "    \n",
    "    print(f\"Epoch {epoch+1} - Training Loss: {train_loss:.4f} - Validation Loss: {val_loss:.4f}\")\n",
    "\n",
    "plot_losses(train_losses, val_losses)"
   ]
  },
  {
   "cell_type": "code",
   "execution_count": null,
   "metadata": {},
   "outputs": [],
   "source": [
    "from sklearn.metrics import accuracy_score, f1_score, precision_recall_fscore_support\n",
    "def eval_loop(m, loader, dev, vocab):\n",
    "    m.eval()\n",
    "    preds = []\n",
    "    labels =[]\n",
    "    with torch.no_grad():\n",
    "        for x, y in loader:\n",
    "            x, y = x.to(dev), y.to(dev)\n",
    "            lens = torch.sum(x != vocab['<PAD>'], dim=1)\n",
    "            mask = lens > 0\n",
    "            x = x[mask]\n",
    "            y = y[mask]\n",
    "            lens = lens[mask]\n",
    "            if len(x) == 0:\n",
    "                continue\n",
    "            out = m(x, lens)\n",
    "            out = torch.argmax(out, dim=1)\n",
    "            preds.extend(out.tolist())\n",
    "            labels.extend(y.tolist())\n",
    "    return preds, labels"
   ]
  },
  {
   "cell_type": "code",
   "execution_count": null,
   "metadata": {},
   "outputs": [],
   "source": [
    "def evaluate(m, loader, dev, vocab):\n",
    "    preds, labels = eval_loop(m, loader, dev, vocab)\n",
    "    acc = accuracy_score(labels, preds)\n",
    "    macro_f1 = f1_score(labels, preds, average='macro')\n",
    "    _, _, f1s, _ = precision_recall_fscore_support(labels, preds, average=None, labels=[0, 1])\n",
    "    lie_f1 = f1s[0]\n",
    "\n",
    "    print(f\"Accuracy: {acc:.4f}\")\n",
    "    print(f\"Macro F1 Score: {macro_f1:.4f}\")\n",
    "    print(f\"Lie (Class 0) F1 Score: {lie_f1:.4f}\")\n",
    "\n",
    "    return acc, macro_f1, lie_f1"
   ]
  },
  {
   "cell_type": "code",
   "execution_count": null,
   "metadata": {},
   "outputs": [],
   "source": [
    "\n",
    "torch.save(model.state_dict(), 'lstm_model_NBi_2.pth')\n"
   ]
  },
  {
   "cell_type": "code",
   "execution_count": null,
   "metadata": {
    "execution": {
     "iopub.execute_input": "2025-03-23T18:12:15.215226Z",
     "iopub.status.busy": "2025-03-23T18:12:15.214870Z",
     "iopub.status.idle": "2025-03-23T18:12:15.451825Z",
     "shell.execute_reply": "2025-03-23T18:12:15.451128Z",
     "shell.execute_reply.started": "2025-03-23T18:12:15.215202Z"
    },
    "trusted": true
   },
   "outputs": [
    {
     "name": "stderr",
     "output_type": "stream",
     "text": [
      "  0%|          | 0/42 [00:00<?, ?it/s]"
     ]
    },
    {
     "name": "stderr",
     "output_type": "stream",
     "text": [
      "100%|██████████| 42/42 [00:18<00:00,  2.21it/s]\n"
     ]
    }
   ],
   "source": [
    "test_texts, test_labels = main_preproces_func(\"test.jsonl\", k=0)\n",
    "test_inputs, test_labels_tensor = process_data(test_texts, test_labels, vocabulary)\n",
    "test_ds = DataClass(test_inputs, test_labels_tensor)\n",
    "test_loader = DataLoader(test_ds, batch_size=32)"
   ]
  },
  {
   "cell_type": "code",
   "execution_count": null,
   "metadata": {},
   "outputs": [
    {
     "name": "stdout",
     "output_type": "stream",
     "text": [
      "📊 Evaluating on Test Set:\n",
      "Accuracy: 0.8333\n",
      "Macro F1 Score: 0.5327\n",
      "Lie (Class 0) F1 Score: 0.1579\n"
     ]
    },
    {
     "data": {
      "text/plain": [
       "(0.8332713062895423, 0.5326854931628948, 0.15789473684210525)"
      ]
     },
     "execution_count": 220,
     "metadata": {},
     "output_type": "execute_result"
    }
   ],
   "source": [
    "print(\" Evaluating on Test Set:\")\n",
    "evaluate(model, test_loader)"
   ]
  },
  {
   "cell_type": "code",
   "execution_count": null,
   "metadata": {},
   "outputs": [
    {
     "name": "stdout",
     "output_type": "stream",
     "text": [
      "Accuracy: 0.8489\n",
      "Macro F1 Score: 0.5458\n",
      "Lie (Class 0) F1 Score: 0.1748\n",
      "Accuracy: 0.8799\n",
      "Macro F1 Score: 0.5260\n",
      "Lie (Class 0) F1 Score: 0.1164\n"
     ]
    },
    {
     "data": {
      "text/plain": [
       "(0.879942487419123, 0.52599897567117, 0.1164021164021164)"
      ]
     },
     "execution_count": 236,
     "metadata": {},
     "output_type": "execute_result"
    }
   ],
   "source": [
    "#loading the model\n",
    "# model1 = LSTM(vocab_size=len(vocabulary)).to(device)\n",
    "model1 = LSTM(vocab_size=len(vocabulary), bidirectional=True).to(device)\n",
    "model1.load_state_dict(torch.load('lstm_model_3.pth'))\n",
    "\n",
    "evaluate(model1, test_loader)\n",
    "evaluate(model1, val_loader)"
   ]
  }
 ],
 "metadata": {
  "kaggle": {
   "accelerator": "nvidiaTeslaT4",
   "dataSources": [
    {
     "datasetId": 6948675,
     "sourceId": 11139801,
     "sourceType": "datasetVersion"
    }
   ],
   "dockerImageVersionId": 30919,
   "isGpuEnabled": true,
   "isInternetEnabled": true,
   "language": "python",
   "sourceType": "notebook"
  },
  "kernelspec": {
   "display_name": "Python 3",
   "language": "python",
   "name": "python3"
  },
  "language_info": {
   "codemirror_mode": {
    "name": "ipython",
    "version": 3
   },
   "file_extension": ".py",
   "mimetype": "text/x-python",
   "name": "python",
   "nbconvert_exporter": "python",
   "pygments_lexer": "ipython3",
   "version": "3.9.6"
  }
 },
 "nbformat": 4,
 "nbformat_minor": 4
}
