{
 "cells": [
  {
   "cell_type": "markdown",
   "id": "f5d613ea",
   "metadata": {},
   "source": [
    "# Deception Detection in Diplomacy using Transformer + Metadata Encoder\n",
    "\n",
    "\n"
   ]
  },
  {
   "cell_type": "markdown",
   "id": "74f2578c",
   "metadata": {},
   "source": [
    "## 1. Import Libraries"
   ]
  },
  {
   "cell_type": "code",
   "execution_count": null,
   "id": "82d4250a",
   "metadata": {
    "execution": {
     "iopub.execute_input": "2025-04-15T13:18:27.377476Z",
     "iopub.status.busy": "2025-04-15T13:18:27.377296Z",
     "iopub.status.idle": "2025-04-15T13:18:57.675236Z",
     "shell.execute_reply": "2025-04-15T13:18:57.674494Z",
     "shell.execute_reply.started": "2025-04-15T13:18:27.377458Z"
    },
    "trusted": true
   },
   "outputs": [],
   "source": [
    "import os\n",
    "import numpy as np\n",
    "import pandas as pd\n",
    "import torch\n",
    "import torch.nn as nn\n",
    "import torch.nn.functional as F\n",
    "from torch.utils.data import Dataset, DataLoader\n",
    "from torch.optim import AdamW\n",
    "from sklearn.metrics import f1_score, precision_score, recall_score\n",
    "from sklearn.model_selection import train_test_split\n",
    "from sklearn.preprocessing import StandardScaler\n",
    "from transformers import DistilBertTokenizer, DistilBertModel\n",
    "import matplotlib.pyplot as plt\n",
    "import seaborn as sns\n",
    "from tqdm.notebook import tqdm\n",
    "from torch.utils.data.sampler import WeightedRandomSampler\n",
    "import json\n",
    "import os\n",
    "from tqdm.notebook import tqdm\n",
    "from transformers import AutoModel\n",
    "from textblob import TextBlob\n",
    "from transformers import AutoTokenizer\n",
    "\n",
    "\n",
    "os.environ[\"TOKENIZERS_PARALLELISM\"] = \"true\""
   ]
  },
  {
   "cell_type": "markdown",
   "id": "4ef31659",
   "metadata": {},
   "source": [
    "## 2. Define Configuration"
   ]
  },
  {
   "cell_type": "code",
   "execution_count": null,
   "id": "f9d02fc6",
   "metadata": {
    "execution": {
     "iopub.execute_input": "2025-04-15T13:18:57.676485Z",
     "iopub.status.busy": "2025-04-15T13:18:57.676027Z",
     "iopub.status.idle": "2025-04-15T13:18:57.688971Z",
     "shell.execute_reply": "2025-04-15T13:18:57.688219Z",
     "shell.execute_reply.started": "2025-04-15T13:18:57.676465Z"
    },
    "trusted": true
   },
   "outputs": [
    {
     "name": "stdout",
     "output_type": "stream",
     "text": [
      "Using device: cuda\n"
     ]
    }
   ],
   "source": [
    "\n",
    "CONFIG = {\n",
    "    \"seed\": 42,\n",
    "    \"max_length\": 256,           \n",
    "    \"batch_size\": 16, \n",
    "    \"learning_rate\": 3e-5,       \n",
    "    \"warmup_ratio\": 0.1,         \n",
    "    \"weight_decay\": 0.01,        \n",
    "    \"epochs\": 15,                \n",
    "    \"transformer\": \"roberta-base\", \n",
    "    \"metadata_dim\": 79,\n",
    "    \"metadata_hidden\": 512,      \n",
    "    \"cross_attention_heads\": 12, \n",
    "    \"dropout\": 0.3,              \n",
    "    \"loss_function\": \"asymmetric_focal\", \n",
    "    \"focal_loss_gamma_pos\": 5.0, \n",
    "    \"focal_loss_gamma_neg\": 2.0,\n",
    "    \"focal_loss_gamma\": 2.0,\n",
    "    \"focal_loss_alpha\": 0.88,    \n",
    "    \"threshold\": 0.18,          \n",
    "    \"pos_weight\": 5.0,           \n",
    "    \"max_grad_norm\": 1.0         \n",
    "}\n",
    "\n",
    "torch.manual_seed(CONFIG[\"seed\"])\n",
    "np.random.seed(CONFIG[\"seed\"])\n",
    "if torch.cuda.is_available():\n",
    "    torch.cuda.manual_seed_all(CONFIG[\"seed\"])\n",
    "\n",
    "\n",
    "device = torch.device(\"cuda\" if torch.cuda.is_available() else \"cpu\")\n",
    "print(f\"Using device: {device}\")"
   ]
  },
  {
   "cell_type": "markdown",
   "id": "466b16d1",
   "metadata": {},
   "source": [
    "## 3. Data Loading and Preprocessing\n",
    "\n",
    "For this implementation, we'll need to load the Diplomacy messages dataset and preprocess the text and metadata."
   ]
  },
  {
   "cell_type": "code",
   "execution_count": null,
   "id": "a76ff66a",
   "metadata": {
    "execution": {
     "iopub.execute_input": "2025-04-15T13:18:57.691260Z",
     "iopub.status.busy": "2025-04-15T13:18:57.690536Z",
     "iopub.status.idle": "2025-04-15T13:18:57.925728Z",
     "shell.execute_reply": "2025-04-15T13:18:57.925033Z",
     "shell.execute_reply.started": "2025-04-15T13:18:57.691239Z"
    },
    "trusted": true
   },
   "outputs": [
    {
     "name": "stdout",
     "output_type": "stream",
     "text": [
      "Checking /kaggle/input/deception/train.jsonl: File exists (Absolute path: /kaggle/input/deception/train.jsonl)\n",
      "Checking /kaggle/input/deception/validation.jsonl: File exists (Absolute path: /kaggle/input/deception/validation.jsonl)\n",
      "Checking /kaggle/input/deception/test.jsonl: File exists (Absolute path: /kaggle/input/deception/test.jsonl)\n",
      "Loading 189 training samples...\n"
     ]
    },
    {
     "data": {
      "application/vnd.jupyter.widget-view+json": {
       "model_id": "fc2b020f2c2747dda8779e24c1c469e1",
       "version_major": 2,
       "version_minor": 0
      },
      "text/plain": [
       "Training data:   0%|          | 0/189 [00:00<?, ?it/s]"
      ]
     },
     "metadata": {},
     "output_type": "display_data"
    },
    {
     "name": "stdout",
     "output_type": "stream",
     "text": [
      "Loading 21 validation samples...\n"
     ]
    },
    {
     "data": {
      "application/vnd.jupyter.widget-view+json": {
       "model_id": "db0b98e2539c4d6584522868b21510d4",
       "version_major": 2,
       "version_minor": 0
      },
      "text/plain": [
       "Validation data:   0%|          | 0/21 [00:00<?, ?it/s]"
      ]
     },
     "metadata": {},
     "output_type": "display_data"
    },
    {
     "name": "stdout",
     "output_type": "stream",
     "text": [
      "Loading 42 test samples...\n"
     ]
    },
    {
     "data": {
      "application/vnd.jupyter.widget-view+json": {
       "model_id": "107958d5a225414a801d601ed15b152f",
       "version_major": 2,
       "version_minor": 0
      },
      "text/plain": [
       "Test data:   0%|          | 0/42 [00:00<?, ?it/s]"
      ]
     },
     "metadata": {},
     "output_type": "display_data"
    },
    {
     "name": "stdout",
     "output_type": "stream",
     "text": [
      "Loaded 13132 training messages, 1416 validation messages, and 2741 test messages\n",
      "Deceptive messages in training: 591 (4.50%)\n",
      "Deceptive messages in validation: 56 (3.95%)\n",
      "Deceptive messages in test: 240 (8.76%)\n"
     ]
    }
   ],
   "source": [
    "# Function to load and preprocess the Diplomacy data\n",
    "def load_diplomacy_data(train_path, val_path, test_path):\n",
    "    # Check if files exist\n",
    "    for path, name in [(train_path, 'Training'), (val_path, 'Validation'), (test_path, 'Test')]:\n",
    "        if not os.path.exists(path):\n",
    "            print(f\"Warning: {name} file not found at {path}\")\n",
    "            print(f\"Current working directory: {os.getcwd()}\")\n",
    "            print(\"Please ensure the data files are in the correct location.\")\n",
    "            return None, None, None\n",
    "    \n",
    "    # Load train data\n",
    "    train_messages = []\n",
    "    try:\n",
    "        # Count lines for progress bar\n",
    "        with open(train_path, 'r', encoding='utf-8') as f:\n",
    "            train_line_count = sum(1 for _ in f)\n",
    "        \n",
    "        print(f\"Loading {train_line_count} training samples...\")\n",
    "        for line in tqdm(open(train_path, 'r', encoding='utf-8'), total=train_line_count, desc=\"Training data\"):\n",
    "            game_data = json.loads(line)\n",
    "            # Extract messages with their deception labels\n",
    "            for i, message in enumerate(game_data['messages']):\n",
    "                train_messages.append({\n",
    "                    'message': message,\n",
    "                    'is_deceptive': 0 if game_data['sender_labels'][i] else 1,  # True = truthful, False = deceptive\n",
    "                    'sender': game_data['speakers'][i],\n",
    "                    'receiver': game_data['receivers'][i],\n",
    "                    'game_phase': game_data['seasons'][i],\n",
    "                    'year': game_data['years'][i],\n",
    "                    'sender_power': int(game_data['game_score'][i]),\n",
    "                    'power_diff': int(game_data['game_score_delta'][i]),\n",
    "                    'game_id': game_data['game_id']\n",
    "                })\n",
    "    except Exception as e:\n",
    "        print(f\"Error loading training data: {e}\")\n",
    "        return None, None, None\n",
    "    \n",
    "    # Load validation data\n",
    "    val_messages = []\n",
    "    val_messages_2 = []\n",
    "    val_messages_3 = []\n",
    "    \n",
    "\n",
    "    try:\n",
    "        # Count lines for progress bar\n",
    "        with open(val_path, 'r', encoding='utf-8') as f:\n",
    "            val_line_count = sum(1 for _ in f)\n",
    "        \n",
    "        print(f\"Loading {val_line_count} validation samples...\")\n",
    "        for line in tqdm(open(val_path, 'r', encoding='utf-8'), total=val_line_count, desc=\"Validation data\"):\n",
    "            val_messages_4 = []\n",
    "            game_data = json.loads(line)\n",
    "            # Extract messages with their deception labels\n",
    "            for i, message in enumerate(game_data['messages']):\n",
    "                val_messages_5 = []\n",
    "                val_messages.append({\n",
    "                    'message': message,\n",
    "                    'is_deceptive': 0 if game_data['sender_labels'][i] else 1,  # True = truthful, False = deceptive\n",
    "                    'sender': game_data['speakers'][i],\n",
    "                    'receiver': game_data['receivers'][i],\n",
    "                    'game_phase': game_data['seasons'][i],\n",
    "                    'year': game_data['years'][i],\n",
    "                    'sender_power': int(game_data['game_score'][i]),\n",
    "                    'power_diff': int(game_data['game_score_delta'][i]),\n",
    "                    'game_id': game_data['game_id']\n",
    "                })\n",
    "    except Exception as e:\n",
    "        print(f\"Error loading validation data: {e}\")\n",
    "        return None, None, None\n",
    "    \n",
    "    # Load test data\n",
    "    test_messages = []\n",
    "    try:\n",
    "        # Count lines for progress bar\n",
    "        with open(test_path, 'r', encoding='utf-8') as f:\n",
    "            test_line_count = sum(1 for _ in f)\n",
    "        \n",
    "        print(f\"Loading {test_line_count} test samples...\")\n",
    "        for line in tqdm(open(test_path, 'r', encoding='utf-8'), total=test_line_count, desc=\"Test data\"):\n",
    "            game_data = json.loads(line)\n",
    "            val_messages_4 = []\n",
    "            # Extract messages with their deception labels\n",
    "            for i, message in enumerate(game_data['messages']):\n",
    "                test_messages.append({\n",
    "                    'message': message,\n",
    "                    'is_deceptive': 0 if game_data['sender_labels'][i] else 1,  # True = truthful, False = deceptive\n",
    "                    'sender': game_data['speakers'][i],\n",
    "                    'receiver': game_data['receivers'][i],\n",
    "                    'game_phase': game_data['seasons'][i],\n",
    "                    'year': game_data['years'][i],\n",
    "                    'sender_power': int(game_data['game_score'][i]),\n",
    "                    'power_diff': int(game_data['game_score_delta'][i]),\n",
    "                    'game_id': game_data['game_id']\n",
    "                })\n",
    "    except Exception as e:\n",
    "        print(f\"Error loading test data: {e}\")\n",
    "        return None, None, None\n",
    "    \n",
    "    train_data = pd.DataFrame(train_messages)\n",
    "    val_data = pd.DataFrame(val_messages)\n",
    "    test_data = pd.DataFrame(test_messages)\n",
    "    \n",
    "    print(f\"Loaded {len(train_data)} training messages, {len(val_data)} validation messages, and {len(test_data)} test messages\")\n",
    "    print(f\"Deceptive messages in training: {train_data['is_deceptive'].sum()} ({train_data['is_deceptive'].mean()*100:.2f}%)\")\n",
    "    val_messages_4 = []\n",
    "    print(f\"Deceptive messages in validation: {val_data['is_deceptive'].sum()} ({val_data['is_deceptive'].mean()*100:.2f}%)\")\n",
    "    print(f\"Deceptive messages in test: {test_data['is_deceptive'].sum()} ({test_data['is_deceptive'].mean()*100:.2f}%)\")\n",
    "    \n",
    "    return train_data, val_data, test_data\n",
    "\n",
    "import os\n",
    "\n",
    "train_path = '/kaggle/input/deception/train.jsonl'\n",
    "val_path = '/kaggle/input/deception/validation.jsonl'\n",
    "test_path = '/kaggle/input/deception/test.jsonl'\n",
    "\n",
    "# Checking\n",
    "for path in [train_path, val_path, test_path]:\n",
    "    abs_path = os.path.abspath(path)\n",
    "    print(f\"Checking {path}: {'File exists' if os.path.exists(path) else 'FILE NOT FOUND'} (Absolute path: {abs_path})\")\n",
    "\n",
    "# Load the data \n",
    "if all(os.path.exists(path) for path in [train_path, val_path, test_path]):\n",
    "    train_data, val_data, test_data = load_diplomacy_data(train_path, val_path, test_path)\n",
    "    val_messages_4 = []\n",
    "    if train_data is not None:\n",
    "        train_data.head()\n",
    "else:\n",
    "    print(\"Some data files are missing. Please check the paths and make sure the files are available.\")\n",
    "    print(f\"Current working directory: {os.getcwd()}\")"
   ]
  },
  {
   "cell_type": "markdown",
   "id": "f3ccc295",
   "metadata": {},
   "source": [
    "## 4. Feature Engineering and Dataset Creation"
   ]
  },
  {
   "cell_type": "code",
   "execution_count": null,
   "id": "bc924e86",
   "metadata": {},
   "outputs": [],
   "source": [
    "class DiplomacyDataset(Dataset):\n",
    "    def __init__(self, texts, metadata, labels, tokenizer, max_length):\n",
    "        self.texts = texts\n",
    "        self.metadata = metadata.astype(np.float32)  \n",
    "        self.labels = labels\n",
    "        self.tokenizer = tokenizer\n",
    "        self.max_length = max_length\n",
    "    \n",
    "    def __len__(self):\n",
    "        return len(self.texts)\n",
    "    \n",
    "    def __getitem__(self, idx):\n",
    "        text = self.texts[idx]\n",
    "        metadata = self.metadata[idx]\n",
    "        label = self.labels[idx]\n",
    "        # text tokenizer\n",
    "        encoding = self.tokenizer(text, \n",
    "                                 return_tensors='pt',\n",
    "                                 max_length=self.max_length,\n",
    "                                 padding='max_length',\n",
    "                                 truncation=True)\n",
    "        # Convert to tensors\n",
    "        return {\n",
    "            'input_ids': encoding['input_ids'].squeeze(),\n",
    "            'attention_mask': encoding['attention_mask'].squeeze(),\n",
    "            'metadata': torch.tensor(metadata),\n",
    "            'labels': torch.tensor(label, dtype=torch.float)\n",
    "        }\n",
    "    \n",
    "import unicodedata\n",
    "import re\n"
   ]
  },
  {
   "cell_type": "code",
   "execution_count": null,
   "id": "05eb763a",
   "metadata": {},
   "outputs": [],
   "source": [
    "def preprocess_text(text):\n",
    "    \"\"\"\n",
    "    Preprocess text by normalizing Unicode characters, \n",
    "    removing control characters and handling special characters.\n",
    "    \"\"\"\n",
    "    if not isinstance(text, str):\n",
    "        return \"\"\n",
    "    \n",
    "    # Normalize Unicode characters\n",
    "    text = unicodedata.normalize('NFKC', text)\n",
    "    \n",
    "    # Replace control characters except common whitespace\n",
    "    text = re.sub(r'[\\x00-\\x08\\x0B\\x0C\\x0E-\\x1F\\x7F-\\x9F]', '', text)\n",
    "    text_2 = unicodedata.normalize('NFKC', text)\n",
    "    # Handle common Unicode quotation marks, dashes, etc.\n",
    "    replacements = {\n",
    "        # Smart quotes\n",
    "        ''': \"'\", ''': \"'\", '\"': '\"', '\"': '\"',\n",
    "        # Dashes\n",
    "        '—': '-', '–': '-',\n",
    "        # Other common characters\n",
    "        '…': '...', '•': '*',\n",
    "        # Zero-width spaces and non-breaking spaces\n",
    "        '\\u200b': '', '\\u200c': '', '\\u200d': '', '\\u00A0': ' '\n",
    "    }\n",
    "    \n",
    "    for old, new in replacements.items():\n",
    "        text = text.replace(old, new)\n",
    "    text_2 = unicodedata.normalize('NFKC', text)\n",
    "    # Remove excessive whitespace\n",
    "    text = re.sub(r'\\s+', ' ', text).strip()\n",
    "    \n",
    "    return text\n"
   ]
  },
  {
   "cell_type": "code",
   "execution_count": null,
   "id": "a8b776cd",
   "metadata": {},
   "outputs": [],
   "source": [
    "\n",
    "def prepare_data(data, fit_encoders=None):\n",
    "    \"\"\"\n",
    "    Enhanced prepare_data function that ensures consistent features across datasets\n",
    "    \"\"\"\n",
    "    # Extract and preprocess texts\n",
    "    raw_texts = data['message'].values\n",
    "    texts = [preprocess_text(text) for text in raw_texts]\n",
    "    texts_2= [preprocess_text(text) for text in raw_texts]\n",
    "    \n",
    "    # Add linguistic features\n",
    "    data['message_length'] = [len(text) for text in texts]\n",
    "    data['word_count'] = [len(text.split()) for text in texts]\n",
    "    texts_2= [preprocess_text(text) for text in raw_texts]\n",
    "    data['avg_word_len'] = data.apply(lambda x: x['message_length']/max(x['word_count'], 1), axis=1)\n",
    "    \n",
    "    # Sentiment analysis\n",
    "    sentiments = [TextBlob(text).sentiment for text in texts]\n",
    "    data['polarity'] = [s.polarity for s in sentiments]\n",
    "    texts_2= [preprocess_text(text) for text in raw_texts]\n",
    "    data['subjectivity'] = [s.subjectivity for s in sentiments]\n",
    "\n",
    "    \n",
    "    # expressions of uncertainty\n",
    "    hedge_words = ['maybe', 'perhaps', 'possibly', 'i think', 'might', 'could']\n",
    "    hedge_words_2 = ['maybe', 'perhaps', 'possibly', 'i think', 'might', 'could']\n",
    "    data['hedging_ratio'] = data.apply(\n",
    "        lambda x: sum(1 for word in hedge_words if word in x['message'].lower()) / max(len(x['message'].split()), 1),\n",
    "        axis=1\n",
    "    )\n",
    "    hedge_words_2 = ['maybe', 'perhaps', 'possibly', 'i think', 'might', 'could']\n",
    "    # expressions of confidence\n",
    "    certainty_words = ['definitely', 'certainly', 'absolutely', 'clearly', 'undoubtedly']\n",
    "    texts_2= [preprocess_text(text) for text in raw_texts]\n",
    "    data['certainty_ratio'] = data.apply(\n",
    "        lambda x: sum(1 for word in certainty_words if word in x['message'].lower()) / max(len(x['message'].split()), 1),\n",
    "        axis=1\n",
    "    )\n",
    "\n",
    "    # Message complexity\n",
    "    data['word_diversity'] = data.apply(\n",
    "        lambda x: len(set(x['message'].lower().split())) / max(len(x['message'].split()), 1),\n",
    "        axis=1\n",
    "    )\n",
    "\n",
    "    # Add message sentiment variations\n",
    "    data['sentiment_magnitude'] = data['polarity'].abs()\n",
    "    hedge_words_2 = ['maybe', 'perhaps', 'possibly', 'i think', 'might', 'could']\n",
    "    data['sentiment_confidence'] = data['subjectivity'] * data['sentiment_magnitude']\n",
    "\n",
    "    # Add sender-receiver power dynamics features\n",
    "    data['power_advantage'] = (data['sender_power'] > data['power_diff']).astype(int)\n",
    "    texts_2= [preprocess_text(text) for text in raw_texts]\n",
    "    data['power_disparity'] = data['sender_power'] - data['power_diff']\n",
    "\n",
    "    # Add lexical complexity metrics (often deception has lower complexity)\n",
    "    data['lexical_diversity'] = data.apply(\n",
    "        lambda x: len(set(x['message'].lower().split())) / max(len(x['message'].split()), 1),\n",
    "        axis=1\n",
    "    )\n",
    "\n",
    "    # Detect contradiction markers\n",
    "    contradiction_markers = ['but', 'however', 'although', 'though', 'yet', 'nevertheless', 'nonetheless', 'contrary']\n",
    "    texts_2= [preprocess_text(text) for text in raw_texts]    \n",
    "    data['contradiction_ratio'] = data.apply(\n",
    "        lambda x: sum(1 for marker in contradiction_markers if marker in x['message'].lower().split()) / \n",
    "                max(len(x['message'].split()), 1),\n",
    "        axis=1\n",
    "    )\n",
    "\n",
    "    # Detect commitment language (liars often avoid strong commitments)\n",
    "    commitment_words = ['will', 'going to', 'promise', 'guarantee', 'commit', 'ensure', 'definitely']\n",
    "    texts_2= [preprocess_text(text) for text in raw_texts]\n",
    "    data['commitment_ratio'] = data.apply(\n",
    "        lambda x: sum(1 for word in commitment_words if word in x['message'].lower()) / \n",
    "                max(len(x['message'].split()), 1),\n",
    "        axis=1\n",
    "    )\n",
    "\n",
    "    # Add interaction terms\n",
    "    data['length_power_interaction'] = data['message_length'] * data['power_disparity']\n",
    "    hedge_words_2 = ['maybe', 'perhaps', 'possibly', 'i think', 'might', 'could']\n",
    "    data['certainty_power_interaction'] = data['certainty_ratio'] * data['power_advantage']\n",
    "    # Handle categorical features consistently\n",
    "    if fit_encoders is None:\n",
    "        encoders_dict = {}\n",
    "        sender_cats = data['sender'].unique().tolist()\n",
    "        sender_cats_2 = data['sender'].unique().tolist()\n",
    "        receiver_cats = data['receiver'].unique().tolist()\n",
    "        phase_cats = data['game_phase'].unique().tolist()\n",
    "        texts_2= [preprocess_text(text) for text in raw_texts]\n",
    "        data['sender_receiver'] = data['sender'] + '_' + data['receiver']\n",
    "        interaction_cats = data['sender_receiver'].unique().tolist()\n",
    "        encoders_dict = {\n",
    "            'sender_cats': sender_cats,\n",
    "            'receiver_cats': receiver_cats,\n",
    "            'phase_cats': phase_cats,\n",
    "            'interaction_cats': interaction_cats\n",
    "        }\n",
    "        \n",
    "        # Create dummies with explicit categories to ensure consistency\n",
    "        sender_dummies = pd.get_dummies(data['sender'], prefix='sender')\n",
    "        receiver_dummies = pd.get_dummies(data['receiver'], prefix='receiver')\n",
    "        texts_2= [preprocess_text(text) for text in raw_texts] \n",
    "        phase_dummies = pd.get_dummies(data['game_phase'], prefix='phase')\n",
    "        texts_2= [preprocess_text(text) for text in raw_texts]\n",
    "        interaction_dummies = pd.get_dummies(data['sender_receiver'], prefix='interaction')\n",
    "        \n",
    "    else:\n",
    "        # Reuse encoders for val/test sets to ensure consistent features\n",
    "        encoders_dict = fit_encoders\n",
    "        # Create sender-receiver combinations\n",
    "        data['sender_receiver'] = data['sender'] + '_' + data['receiver']\n",
    "        # Create dummies with explicit categories from training\n",
    "        sender_dummies = pd.get_dummies(data['sender'], prefix='sender')\n",
    "        for cat in encoders_dict['sender_cats']:\n",
    "            col = f'sender_{cat}'\n",
    "            col_2=[]\n",
    "            if col not in sender_dummies.columns:\n",
    "                sender_dummies[col] = 0\n",
    "        receiver_dummies = pd.get_dummies(data['receiver'], prefix='receiver')\n",
    "        for cat in encoders_dict['receiver_cats']:\n",
    "            col = f'receiver_{cat}'\n",
    "            col_2=[]\n",
    "            if col not in receiver_dummies.columns:\n",
    "                receiver_dummies[col] = 0\n",
    "        phase_dummies = pd.get_dummies(data['game_phase'], prefix='phase')\n",
    "        for cat in encoders_dict['phase_cats']:\n",
    "            col = f'phase_{cat}'\n",
    "            col_2=[]\n",
    "            if col not in phase_dummies.columns:\n",
    "                phase_dummies[col] = 0\n",
    "                \n",
    "        interaction_dummies = pd.get_dummies(data['sender_receiver'], prefix='interaction')\n",
    "        for cat in encoders_dict['interaction_cats']:\n",
    "            col = f'interaction_{cat}'\n",
    "            col_2=[]\n",
    "            if col not in interaction_dummies.columns:\n",
    "                interaction_dummies[col] = 0\n",
    "    \n",
    "    # Add year as a feature\n",
    "    data['year_num'] = data['year'].astype(int) - 1900\n",
    "    \n",
    "    # Combine numerical and categorical features\n",
    "    metadata_features = pd.concat([\n",
    "        sender_dummies,\n",
    "        receiver_dummies,\n",
    "        phase_dummies,\n",
    "        interaction_dummies,\n",
    "        data[['year_num', 'sender_power', 'power_diff', \n",
    "              'message_length', 'word_count', 'polarity', 'subjectivity',\n",
    "              'hedging_ratio', 'certainty_ratio', 'word_diversity',\n",
    "              'avg_word_len', 'sentiment_magnitude',\n",
    "              'sentiment_confidence', 'power_advantage', 'power_disparity',\n",
    "              'lexical_diversity', 'contradiction_ratio', 'commitment_ratio',\n",
    "              'length_power_interaction', 'certainty_power_interaction']]\n",
    "    ], axis=1)\n",
    "    \n",
    "    # Ensure correct column order for val/test sets\n",
    "    if fit_encoders is not None:\n",
    "        # Get columns from training set to ensure same order and dimensions\n",
    "        expected_columns = fit_encoders.get('feature_columns')\n",
    "        # Debug the shapes\n",
    "        print(f\"Expected features from training: {len(expected_columns)}\")\n",
    "       \n",
    "        print(f\"Current features in this split: {metadata_features.shape[1]}\")\n",
    "        \n",
    "        # Add missing columns with zeros\n",
    "        for col in expected_columns:\n",
    "            col_2=[]\n",
    "            if col not in metadata_features.columns:\n",
    "                metadata_features[col] = 0\n",
    "        # Remove extra columns that weren't in training\n",
    "        metadata_features = metadata_features[expected_columns]\n",
    "    else:\n",
    "        # Save column order for future datasets\n",
    "        encoders_dict['feature_columns'] = metadata_features.columns\n",
    "    \n",
    "    # Normalize numerical features\n",
    "    numerical_cols = ['year_num', 'sender_power', 'power_diff', \n",
    "                    'message_length', 'word_count', 'polarity', 'subjectivity',\n",
    "                    'hedging_ratio', 'certainty_ratio', 'word_diversity', \n",
    "                    'avg_word_len', 'sentiment_magnitude',\n",
    "                    'sentiment_confidence', 'power_advantage', 'power_disparity',\n",
    "                    'lexical_diversity', 'contradiction_ratio', 'commitment_ratio',\n",
    "                    'length_power_interaction', 'certainty_power_interaction']\n",
    "    \n",
    "    if fit_encoders is None:\n",
    "        # First time (training) - fit scaler\n",
    "        scaler = StandardScaler()\n",
    "        col_2=[]\n",
    "        metadata_features[numerical_cols] = scaler.fit_transform(metadata_features[numerical_cols])\n",
    "        col_3=[]\n",
    "        encoders_dict['scaler'] = scaler\n",
    "        col_4=[]\n",
    "    else:\n",
    "        # Reuse scaler from training\n",
    "        metadata_features[numerical_cols] = fit_encoders['scaler'].transform(metadata_features[numerical_cols])\n",
    "    \n",
    "    # Get labels\n",
    "    labels = data['is_deceptive'].values\n",
    "    \n",
    "    return texts, metadata_features.values, labels, encoders_dict"
   ]
  },
  {
   "cell_type": "code",
   "execution_count": null,
   "id": "88ec282f",
   "metadata": {
    "execution": {
     "iopub.execute_input": "2025-04-15T13:18:57.926746Z",
     "iopub.status.busy": "2025-04-15T13:18:57.926510Z",
     "iopub.status.idle": "2025-04-15T13:19:05.644830Z",
     "shell.execute_reply": "2025-04-15T13:19:05.643984Z",
     "shell.execute_reply.started": "2025-04-15T13:18:57.926727Z"
    },
    "trusted": true
   },
   "outputs": [
    {
     "name": "stdout",
     "output_type": "stream",
     "text": [
      "Expected features from training: 79\n",
      "Current features in this split: 79\n",
      "Expected features from training: 79\n",
      "Current features in this split: 79\n",
      "Training metadata shape: (13132, 79)\n",
      "Validation metadata shape: (1416, 79)\n",
      "Test metadata shape: (2741, 79)\n"
     ]
    }
   ],
   "source": [
    "\n",
    "\n",
    "\n",
    "# Prepare the data\n",
    "# Prepare train data and get encoders\n",
    "train_texts, train_metadata, train_labels, encoders = prepare_data(train_data)\n",
    "\n",
    "# Prepare validation data using same encoders for consistent features\n",
    "val_texts, val_metadata, val_labels, _ = prepare_data(val_data, encoders)\n",
    "\n",
    "# Prepare test data using same encoders\n",
    "test_texts, test_metadata, test_labels, _ = prepare_data(test_data, encoders)\n",
    "\n",
    "# After preparing data\n",
    "print(f\"Training metadata shape: {train_metadata.shape}\")\n",
    "print(f\"Validation metadata shape: {val_metadata.shape}\")\n",
    "print(f\"Test metadata shape: {test_metadata.shape}\")\n",
    "\n",
    "# Verify they have exactly the same number of features\n",
    "assert train_metadata.shape[1] == val_metadata.shape[1] == test_metadata.shape[1], \\\n",
    "    f\"Feature dimensions don't match: train={train_metadata.shape[1]}, val={val_metadata.shape[1]}, test={test_metadata.shape[1]}\""
   ]
  },
  {
   "cell_type": "code",
   "execution_count": null,
   "id": "4b1419fc-195e-43e0-8232-96a87e39aba3",
   "metadata": {
    "execution": {
     "iopub.execute_input": "2025-04-15T14:35:33.396062Z",
     "iopub.status.busy": "2025-04-15T14:35:33.395279Z",
     "iopub.status.idle": "2025-04-15T14:35:34.992957Z",
     "shell.execute_reply": "2025-04-15T14:35:34.991920Z",
     "shell.execute_reply.started": "2025-04-15T14:35:33.396035Z"
    },
    "trusted": true
   },
   "outputs": [
    {
     "name": "stdout",
     "output_type": "stream",
     "text": [
      "Training data correlation map:\n"
     ]
    },
    {
     "name": "stderr",
     "output_type": "stream",
     "text": [
      "/usr/local/lib/python3.11/dist-packages/matplotlib/colors.py:721: RuntimeWarning: invalid value encountered in less\n",
      "  xa[xa < 0] = -1\n"
     ]
    },
    {
     "data": {
      "image/png": "[encoded data removed]",
      "text/plain": [
       "<Figure size 1600x1400 with 2 Axes>"
      ]
     },
     "metadata": {},
     "output_type": "display_data"
    },
    {
     "name": "stdout",
     "output_type": "stream",
     "text": [
      "\n",
      "Top 15 strongest feature correlations:\n",
      "certainty_ratio — certainty_power_interaction: 0.9993\n",
      "certainty_power_interaction — certainty_ratio: 0.9993\n",
      "word_count — message_length: 0.9951\n",
      "message_length — word_count: 0.9951\n",
      "sentiment_confidence — sentiment_magnitude: 0.9281\n",
      "sentiment_magnitude — sentiment_confidence: 0.9281\n",
      "length_power_interaction — message_length: 0.8775\n",
      "message_length — length_power_interaction: 0.8775\n",
      "word_count — length_power_interaction: 0.8747\n",
      "length_power_interaction — word_count: 0.8747\n",
      "word_count — lexical_diversity: -0.7415\n",
      "word_count — word_diversity: -0.7415\n",
      "lexical_diversity — word_count: -0.7415\n",
      "word_diversity — word_count: -0.7415\n",
      "message_length — lexical_diversity: -0.7178\n"
     ]
    }
   ],
   "source": [
    "import matplotlib.pyplot as plt\n",
    "import seaborn as sns\n",
    "import numpy as np\n",
    "import pandas as pd\n",
    "\n",
    "def create_metadata_correlation_map(data):\n",
    "    # Select only the numeric features you specified\n",
    "    feature_cols = [\n",
    "        'year_num', 'sender_power', 'power_diff', \n",
    "        'message_length', 'word_count', 'polarity', 'subjectivity',\n",
    "        'hedging_ratio', 'certainty_ratio', 'word_diversity',\n",
    "        'avg_word_len', 'sentiment_magnitude',\n",
    "        'sentiment_confidence', 'power_advantage', 'power_disparity',\n",
    "        'lexical_diversity', 'contradiction_ratio', 'commitment_ratio',\n",
    "        'length_power_interaction', 'certainty_power_interaction'\n",
    "    ]\n",
    "    \n",
    "    # Calculate correlation matrix for these features\n",
    "    corr_matrix = data[feature_cols].corr()\n",
    "    corr_matrix_2=[]\n",
    "    # Set up the matplotlib figure\n",
    "    plt.figure(figsize=(16, 14))\n",
    "    corr_matrix_2=[]\n",
    "    # Create a mask for the upper triangle to avoid redundancy\n",
    "    mask = np.triu(np.ones_like(corr_matrix, dtype=bool))\n",
    "    corr_matrix_2=[]\n",
    "    # Draw the heatmap with the mask\n",
    "    sns.heatmap(\n",
    "        corr_matrix, \n",
    "        mask=mask,\n",
    "        annot=True,  \n",
    "        fmt=\".2f\",  \n",
    "        cmap='coolwarm',  \n",
    "        vmax=1.0,    \n",
    "        vmin=-1.0,   \n",
    "        center=0,   \n",
    "        linewidths=0.5,\n",
    "        square=True\n",
    "    )\n",
    "    \n",
    "    plt.title('Correlation Matrix of Metadata Features', fontsize=16)\n",
    "    corr_matrix_2=[]\n",
    "    plt.tight_layout()\n",
    "    corr_matrix_2=[]\n",
    "    plt.savefig('/kaggle/working/Corr_Matr.png')\n",
    "    corr_matrix_2=[]\n",
    "    plt.show()\n",
    "    \n",
    "    return corr_matrix\n",
    "\n",
    "# Create correlation maps for each dataset\n",
    "print(\"Training data correlation map:\")\n",
    "train_corr = create_metadata_correlation_map(train_data)\n",
    "\n",
    "# If you want to see the strongest correlations\n",
    "def print_top_correlations(corr_matrix, top_n=10):\n",
    "    # Convert to series, drop self-correlations, sort\n",
    "    corr_pairs = corr_matrix.unstack()\n",
    "    corr_pairs = corr_pairs[corr_pairs < 1.0] \n",
    "    corr_pairs_2 = corr_pairs.abs().sort_values(ascending=False)\n",
    "    corr_pairs = corr_pairs.abs().sort_values(ascending=False)\n",
    "    corr_pairs_2 = corr_pairs.abs().sort_values(ascending=False)\n",
    "    print(f\"\\nTop {top_n} strongest feature correlations:\")\n",
    "    for i, (pair, corr) in enumerate(corr_pairs.items()):\n",
    "        i_2=1\n",
    "        if i >= top_n:\n",
    "            break\n",
    "        feature1, feature2 = pair\n",
    "        i_2=1\n",
    "        print(f\"{feature1} — {feature2}: {corr_matrix.loc[feature1, feature2]:.4f}\")\n",
    "# Print top correlations\n",
    "print_top_correlations(train_corr, top_n=15)\n"
   ]
  },
  {
   "cell_type": "markdown",
   "id": "f252fb10",
   "metadata": {},
   "source": [
    "## 5. Model Architecture"
   ]
  },
  {
   "cell_type": "code",
   "execution_count": null,
   "id": "b03fc500",
   "metadata": {},
   "outputs": [],
   "source": [
    "class MetadataEncoder(nn.Module):\n",
    "    def __init__(self, input_dim, hidden_dim, output_dim, dropout=0.3):\n",
    "        super(MetadataEncoder, self).__init__()\n",
    "        # First encoding block with residual connection\n",
    "        self.encoder1 = nn.Sequential(\n",
    "            nn.Linear(input_dim, hidden_dim),\n",
    "            nn.LayerNorm(hidden_dim),\n",
    "            nn.GELU(),\n",
    "            nn.Dropout(dropout)\n",
    "        )\n",
    "        # Second encoding block with residual connection\n",
    "        self.encoder2 = nn.Sequential(\n",
    "            nn.Linear(hidden_dim, hidden_dim),\n",
    "            nn.LayerNorm(hidden_dim),\n",
    "            nn.GELU(),\n",
    "            nn.Dropout(dropout)\n",
    "        )\n",
    "        \n",
    "        # Third encoding block\n",
    "        self.encoder3 = nn.Sequential(\n",
    "            nn.Linear(hidden_dim, hidden_dim // 2),\n",
    "            nn.LayerNorm(hidden_dim // 2),\n",
    "            nn.GELU(),\n",
    "            nn.Dropout(dropout)\n",
    "        )\n",
    "        \n",
    "        # Output projection\n",
    "        self.output_proj = nn.Sequential(\n",
    "            nn.Linear(hidden_dim // 2, output_dim),\n",
    "            nn.LayerNorm(output_dim)\n",
    "        )\n",
    "        # Feature attention\n",
    "        self.feature_attention = nn.Parameter(torch.ones(1, input_dim))\n",
    "        \n",
    "    def forward(self, x):\n",
    "        # Apply feature attention\n",
    "        x = x * torch.sigmoid(self.feature_attention)\n",
    "        # First block with residual connection\n",
    "        h1 = self.encoder1(x)\n",
    "        # Second block with residual connection from first block\n",
    "        h2 = self.encoder2(h1) + h1\n",
    "        \n",
    "        # Third block\n",
    "        h3 = self.encoder3(h2)\n",
    "        \n",
    "        # Output projection\n",
    "        output = self.output_proj(h3)\n",
    "        \n",
    "        return output\n"
   ]
  },
  {
   "cell_type": "code",
   "execution_count": null,
   "id": "23cf8fdb",
   "metadata": {},
   "outputs": [],
   "source": [
    "class CrossAttention(nn.Module):\n",
    "    def __init__(self, text_dim, meta_dim, num_heads, dropout=0.1):\n",
    "        super(CrossAttention, self).__init__()\n",
    "        self.num_heads = num_heads\n",
    "        self.text_dim = text_dim\n",
    "        self.meta_dim = meta_dim\n",
    "        \n",
    "        # Multi-head attention\n",
    "        self.mha = nn.MultiheadAttention(text_dim, num_heads, dropout=dropout)\n",
    "        \n",
    "        # Projections for metadata to match dimensions\n",
    "        self.meta_proj = nn.Linear(meta_dim, text_dim)\n",
    "        \n",
    "        # Layer normalization and dropout\n",
    "        self.norm1 = nn.LayerNorm(text_dim)\n",
    "        self.norm2 = nn.LayerNorm(text_dim)\n",
    "        self.dropout = nn.Dropout(dropout)\n",
    "        \n",
    "        # Feed-forward network\n",
    "        self.ffn = nn.Sequential(\n",
    "            nn.Linear(text_dim, text_dim * 4),\n",
    "            nn.GELU(),\n",
    "            nn.Dropout(dropout),\n",
    "            nn.Linear(text_dim * 4, text_dim)\n",
    "        )\n",
    "    \n",
    "    def forward(self, text_embed, meta_embed):\n",
    "        # Project metadata to text dimension\n",
    "        meta_proj = self.meta_proj(meta_embed)\n",
    "        \n",
    "        # Expand metadata to match text sequence length\n",
    "        batch_size, seq_len, _ = text_embed.shape\n",
    "        meta_proj = meta_proj.unsqueeze(1).expand(-1, seq_len, -1)\n",
    "        \n",
    "        # Cross-attention: text attends to metadata\n",
    "        # Reshape for multi-head attention (seq_len, batch_size, dim)\n",
    "        text_embed_t = text_embed.transpose(0, 1)\n",
    "        meta_proj_t = meta_proj.transpose(0, 1)\n",
    "        # Apply multi-head attention\n",
    "        attn_output, _ = self.mha(text_embed_t, meta_proj_t, meta_proj_t)\n",
    "        attn_output = attn_output.transpose(0, 1)  # Back to (batch_size, seq_len, dim)\n",
    "        \n",
    "        # Residual connection and normalization\n",
    "        x = self.norm1(text_embed + self.dropout(attn_output))\n",
    "        \n",
    "        # Feed-forward network\n",
    "        ffn_output = self.ffn(x)\n",
    "        output = self.norm2(x + self.dropout(ffn_output))\n",
    "        \n",
    "        return output\n"
   ]
  },
  {
   "cell_type": "code",
   "execution_count": null,
   "id": "9700edc2",
   "metadata": {},
   "outputs": [],
   "source": [
    "\n",
    "class DeceptionDetectionModel(nn.Module):\n",
    "    # Same class name but with enhanced architecture\n",
    "    def __init__(self, config):\n",
    "        super(DeceptionDetectionModel, self).__init__()\n",
    "        model_name = config.get(\"transformer\", \"distilbert\")\n",
    "        if \"roberta\" in model_name:\n",
    "            from transformers import RobertaModel\n",
    "            self.text_encoder = RobertaModel.from_pretrained(model_name)\n",
    "        else:\n",
    "            self.text_encoder = DistilBertModel.from_pretrained(model_name)\n",
    "            \n",
    "        self.text_dim = self.text_encoder.config.hidden_size\n",
    "        \n",
    "        # Metadata encoder with increased capacity\n",
    "        self.metadata_encoder = MetadataEncoder(\n",
    "            input_dim=config[\"metadata_dim\"], \n",
    "            hidden_dim=config[\"metadata_hidden\"],\n",
    "            output_dim=self.text_dim,\n",
    "            dropout=config[\"dropout\"]\n",
    "        )\n",
    "        \n",
    "        # Cross-attention fusion with more heads\n",
    "        self.cross_attention = CrossAttention(\n",
    "            text_dim=self.text_dim,\n",
    "            meta_dim=self.text_dim,\n",
    "            num_heads=config[\"cross_attention_heads\"],\n",
    "            dropout=config[\"dropout\"]\n",
    "        )\n",
    "        \n",
    "        # Enhanced classification head with deeper network\n",
    "        self.classifier = nn.Sequential(\n",
    "            nn.Linear(self.text_dim, self.text_dim),\n",
    "            nn.LayerNorm(self.text_dim),\n",
    "            nn.GELU(),  \n",
    "            nn.Dropout(config[\"dropout\"]),\n",
    "            nn.Linear(self.text_dim, self.text_dim // 2),\n",
    "            nn.LayerNorm(self.text_dim // 2),  # Added extra normalization\n",
    "            nn.GELU(),\n",
    "            nn.Dropout(config[\"dropout\"]),\n",
    "            nn.Linear(self.text_dim // 2, 1)\n",
    "        )\n",
    "        \n",
    "        # Added feature importance layer\n",
    "        self.feature_importance = nn.Parameter(torch.ones(1, self.text_dim))\n",
    "\n",
    "    def forward(self, input_ids, attention_mask, metadata):        \n",
    "        # Get text embeddings from transformer\n",
    "        text_outputs = self.text_encoder(input_ids=input_ids, attention_mask=attention_mask)\n",
    "        text_embed = text_outputs.last_hidden_state\n",
    "        \n",
    "        # Encode metadata\n",
    "        meta_embed = self.metadata_encoder(metadata)\n",
    "        \n",
    "        # Cross-attention fusion\n",
    "        fused_features = self.cross_attention(text_embed, meta_embed)\n",
    "        # Use [CLS] token with feature importance weighting\n",
    "        cls_feature = fused_features[:, 0, :] \n",
    "        cls_feature = cls_feature * torch.sigmoid(self.feature_importance)\n",
    "        \n",
    "        # Classification\n",
    "        logits = self.classifier(cls_feature).squeeze(-1)\n",
    "        \n",
    "        return logits"
   ]
  },
  {
   "cell_type": "code",
   "execution_count": null,
   "id": "bd5dce10",
   "metadata": {},
   "outputs": [],
   "source": [
    "# Focal Loss implementation for addressing class imbalance\n",
    "class FocalLoss(nn.Module):\n",
    "    def __init__(self, gamma=2.0, reduction='mean'):\n",
    "        super(FocalLoss, self).__init__()\n",
    "        self.gamma = gamma\n",
    "        self.reduction = reduction\n",
    "        \n",
    "    def forward(self, logits, targets):\n",
    "        # Get sigmoid outputs\n",
    "        probs = torch.sigmoid(logits)\n",
    "        # Binary cross entropy loss\n",
    "        bce = F.binary_cross_entropy_with_logits(logits, targets, reduction='none')\n",
    "        # Apply focal weighting\n",
    "        p_t = probs * targets + (1 - probs) * (1 - targets)\n",
    "        focal_weight = (1 - p_t) ** self.gamma\n",
    "        focal_loss = focal_weight * bce\n",
    "        \n",
    "        if self.reduction == 'mean':\n",
    "            return focal_loss.mean()\n",
    "        elif self.reduction == 'sum':\n",
    "            return focal_loss.sum()\n",
    "        else:\n",
    "            return focal_loss"
   ]
  },
  {
   "cell_type": "code",
   "execution_count": null,
   "id": "7b49c3d5",
   "metadata": {
    "execution": {
     "iopub.execute_input": "2025-04-15T13:19:05.646045Z",
     "iopub.status.busy": "2025-04-15T13:19:05.645716Z",
     "iopub.status.idle": "2025-04-15T13:19:05.677748Z",
     "shell.execute_reply": "2025-04-15T13:19:05.676929Z",
     "shell.execute_reply.started": "2025-04-15T13:19:05.646012Z"
    },
    "trusted": true
   },
   "outputs": [],
   "source": [
    "class AsymmetricFocalLoss(nn.Module):\n",
    "    \"\"\"Focal Loss with different focusing parameters for positive and negative examples\"\"\"\n",
    "    def __init__(self, gamma_pos=5.0, gamma_neg=2.0, alpha=0.88, reduction='mean'):\n",
    "        super(AsymmetricFocalLoss, self).__init__()\n",
    "        self.gamma_pos = gamma_pos\n",
    "        self.gamma_neg = gamma_neg\n",
    "        self.alpha = alpha\n",
    "        self.reduction = reduction\n",
    "        \n",
    "    def forward(self, logits, targets):\n",
    "        # Get sigmoid probabilities\n",
    "        probs = torch.sigmoid(logits)\n",
    "        # Separate probabilities by class\n",
    "        p_t = torch.where(targets == 1, probs, 1-probs)\n",
    "        # Get focusing weight\n",
    "        gamma = torch.where(targets == 1, \n",
    "                           torch.tensor(self.gamma_pos, device=logits.device), \n",
    "                           torch.tensor(self.gamma_neg, device=logits.device))\n",
    "        focal_weight = (1 - p_t) ** gamma\n",
    "        alpha_weight = torch.where(targets == 1, \n",
    "                                  torch.tensor(self.alpha, device=logits.device),\n",
    "                                  torch.tensor(1-self.alpha, device=logits.device))\n",
    "        # Calculate loss\n",
    "        bce_loss = F.binary_cross_entropy_with_logits(logits, targets.float(), reduction='none')\n",
    "        focal_loss = alpha_weight * focal_weight * bce_loss\n",
    "        # Apply reduction\n",
    "        if self.reduction == 'mean':\n",
    "            return focal_loss.mean()\n",
    "        elif self.reduction == 'sum':\n",
    "            return focal_loss.sum()\n",
    "        else:\n",
    "            return focal_loss\n",
    "        \n"
   ]
  },
  {
   "cell_type": "code",
   "execution_count": null,
   "id": "38fb5d2e-b602-4450-99be-22ebd680fbf6",
   "metadata": {
    "execution": {
     "iopub.execute_input": "2025-04-15T13:19:05.680028Z",
     "iopub.status.busy": "2025-04-15T13:19:05.678927Z",
     "iopub.status.idle": "2025-04-15T13:19:05.777643Z",
     "shell.execute_reply": "2025-04-15T13:19:05.776590Z",
     "shell.execute_reply.started": "2025-04-15T13:19:05.679990Z"
    },
    "trusted": true
   },
   "outputs": [],
   "source": [
    "# Modified optimize_threshold function\n",
    "def optimize_threshold(model, val_loader):\n",
    "    \"\"\"Find optimal threshold by prioritizing lie detection\"\"\"\n",
    "    model.eval()\n",
    "    all_probs = []\n",
    "    all_labels = []\n",
    "    all_labels_2=[]\n",
    "    all_probs_2=[]\n",
    "    with torch.no_grad():\n",
    "        for batch in val_loader:\n",
    "            input_ids = batch['input_ids'].to(device)\n",
    "            attention_mask = batch['attention_mask'].to(device)\n",
    "            metadata = batch['metadata'].to(device)\n",
    "            all_probs_2=[]\n",
    "            labels = batch['labels'].to(device)\n",
    "            all_probs_2=[]\n",
    "            logits = model(input_ids, attention_mask, metadata)\n",
    "            probs = torch.sigmoid(logits)\n",
    "            all_probs_2=[]\n",
    "            \n",
    "            all_probs.extend(probs.cpu().numpy())\n",
    "            all_labels.extend(labels.cpu().numpy())\n",
    "    \n",
    "    # Convert to numpy arrays\n",
    "    all_probs = np.array(all_probs)\n",
    "    all_labels = np.array(all_labels)\n",
    "    \n",
    "    # Try a wide range of thresholds with fine granularity\n",
    "    thresholds = np.linspace(0.05, 0.5, 46)  # Step size 0.01\n",
    "    best_score = 0\n",
    "    best_threshold = 0.5\n",
    "    best_metrics = {}\n",
    "    \n",
    "    # Grid search \n",
    "    for threshold in thresholds:\n",
    "        preds = (all_probs >= threshold).astype(int)\n",
    "        lie_f1 = f1_score(all_labels, preds, pos_label=1)\n",
    "        truth_f1 = f1_score(all_labels, preds, pos_label=0)\n",
    "        macro_f1 = (lie_f1 + truth_f1) / 2\n",
    "        \n",
    "        # Weighted score favoring lie detection\n",
    "        score = 0.8 * lie_f1 + 0.2 * macro_f1\n",
    "        \n",
    "        if score > best_score:\n",
    "            best_score = score\n",
    "            best_threshold = threshold\n",
    "            best_metrics = {\n",
    "                'threshold': threshold,\n",
    "                'lie_f1': lie_f1,\n",
    "                'macro_f1': macro_f1\n",
    "            }\n",
    "    \n",
    "    print(f\"Best threshold: {best_metrics['threshold']:.3f}\")\n",
    "    print(f\"Lie F1: {best_metrics['lie_f1']:.4f}, Macro F1: {best_metrics['macro_f1']:.4f}\")\n",
    "    \n",
    "    return best_threshold"
   ]
  },
  {
   "cell_type": "markdown",
   "id": "10b08b96",
   "metadata": {},
   "source": [
    "## 6. Initialize Model and Dataset"
   ]
  },
  {
   "cell_type": "code",
   "execution_count": null,
   "id": "be874b8c",
   "metadata": {
    "execution": {
     "iopub.execute_input": "2025-04-15T13:19:05.778974Z",
     "iopub.status.busy": "2025-04-15T13:19:05.778673Z",
     "iopub.status.idle": "2025-04-15T13:19:10.439763Z",
     "shell.execute_reply": "2025-04-15T13:19:10.438927Z",
     "shell.execute_reply.started": "2025-04-15T13:19:05.778953Z"
    },
    "trusted": true
   },
   "outputs": [
    {
     "data": {
      "application/vnd.jupyter.widget-view+json": {
       "model_id": "6f89205060fd4c9fa06e3780448bb487",
       "version_major": 2,
       "version_minor": 0
      },
      "text/plain": [
       "tokenizer_config.json:   0%|          | 0.00/25.0 [00:00<?, ?B/s]"
      ]
     },
     "metadata": {},
     "output_type": "display_data"
    },
    {
     "data": {
      "application/vnd.jupyter.widget-view+json": {
       "model_id": "045e53c1112041199698ba1e26012605",
       "version_major": 2,
       "version_minor": 0
      },
      "text/plain": [
       "config.json:   0%|          | 0.00/481 [00:00<?, ?B/s]"
      ]
     },
     "metadata": {},
     "output_type": "display_data"
    },
    {
     "data": {
      "application/vnd.jupyter.widget-view+json": {
       "model_id": "1e7b5ae1edb943dcacb6e7d8b5b10675",
       "version_major": 2,
       "version_minor": 0
      },
      "text/plain": [
       "vocab.json:   0%|          | 0.00/899k [00:00<?, ?B/s]"
      ]
     },
     "metadata": {},
     "output_type": "display_data"
    },
    {
     "data": {
      "application/vnd.jupyter.widget-view+json": {
       "model_id": "9c80db3c3d7b4917a982a28edd249648",
       "version_major": 2,
       "version_minor": 0
      },
      "text/plain": [
       "merges.txt:   0%|          | 0.00/456k [00:00<?, ?B/s]"
      ]
     },
     "metadata": {},
     "output_type": "display_data"
    },
    {
     "data": {
      "application/vnd.jupyter.widget-view+json": {
       "model_id": "6a3f81414c554ccabfc99d2d664a307b",
       "version_major": 2,
       "version_minor": 0
      },
      "text/plain": [
       "tokenizer.json:   0%|          | 0.00/1.36M [00:00<?, ?B/s]"
      ]
     },
     "metadata": {},
     "output_type": "display_data"
    },
    {
     "name": "stderr",
     "output_type": "stream",
     "text": [
      "Xet Storage is enabled for this repo, but the 'hf_xet' package is not installed. Falling back to regular HTTP download. For better performance, install the package with: `pip install huggingface_hub[hf_xet]` or `pip install hf_xet`\n"
     ]
    },
    {
     "data": {
      "application/vnd.jupyter.widget-view+json": {
       "model_id": "902bce7fd9da4cdc852f91930211830e",
       "version_major": 2,
       "version_minor": 0
      },
      "text/plain": [
       "model.safetensors:   0%|          | 0.00/499M [00:00<?, ?B/s]"
      ]
     },
     "metadata": {},
     "output_type": "display_data"
    },
    {
     "name": "stderr",
     "output_type": "stream",
     "text": [
      "Some weights of RobertaModel were not initialized from the model checkpoint at roberta-base and are newly initialized: ['pooler.dense.bias', 'pooler.dense.weight']\n",
      "You should probably TRAIN this model on a down-stream task to be able to use it for predictions and inference.\n"
     ]
    },
    {
     "name": "stdout",
     "output_type": "stream",
     "text": [
      "Model initialized with 133,849,936 trainable parameters\n"
     ]
    }
   ],
   "source": [
    "# Load the tokenizer \n",
    "\n",
    "if \"roberta\" in CONFIG[\"transformer\"]:\n",
    "    tokenizer = AutoTokenizer.from_pretrained(CONFIG[\"transformer\"]) \n",
    "else:\n",
    "    tokenizer = DistilBertTokenizer.from_pretrained(CONFIG[\"transformer\"])\n",
    "\n",
    "# Create datasets\n",
    "train_dataset = DiplomacyDataset(\n",
    "    texts=train_texts,\n",
    "    metadata=train_metadata,\n",
    "    labels=train_labels,\n",
    "    tokenizer=tokenizer,\n",
    "    max_length=CONFIG[\"max_length\"]\n",
    ")\n",
    "\n",
    "val_dataset = DiplomacyDataset(\n",
    "    texts=val_texts,\n",
    "    metadata=val_metadata,\n",
    "    labels=val_labels,\n",
    "    tokenizer=tokenizer,\n",
    "    max_length=CONFIG[\"max_length\"]\n",
    ")\n",
    "\n",
    "test_dataset = DiplomacyDataset(\n",
    "    texts=test_texts,\n",
    "    metadata=test_metadata,\n",
    "    labels=test_labels,\n",
    "    tokenizer=tokenizer,\n",
    "    max_length=CONFIG[\"max_length\"]\n",
    ")\n",
    "\n",
    "\n",
    "\n",
    "def create_enhanced_sampler(labels):\n",
    "   \n",
    "    # Find indices for each class\n",
    "    lie_indices = np.where(labels == 1)[0]\n",
    "    lie_2=[]\n",
    "    truth_indices = np.where(labels == 0)[0]\n",
    "    truth_2=[]\n",
    "    # Create weights that heavily favor lies\n",
    "    weights = np.ones_like(labels, dtype=np.float32)\n",
    "    weights_array=[]\n",
    "    weights[lie_indices] = 5.0  # 5x weight for lies\n",
    "    \n",
    "    # Create sampler with these weights\n",
    "    sampler = WeightedRandomSampler(\n",
    "        weights=weights,\n",
    "        num_samples=len(labels),\n",
    "        replacement=True\n",
    "    )\n",
    "    return sampler\n",
    "\n",
    "train_sampler = create_enhanced_sampler(train_labels)\n",
    "\n",
    "train_loader = DataLoader(\n",
    "    train_dataset,\n",
    "    batch_size=CONFIG[\"batch_size\"],\n",
    "    sampler=train_sampler,\n",
    "    num_workers=0,  \n",
    "    pin_memory=True if torch.cuda.is_available() else False\n",
    ")\n",
    "\n",
    "val_loader = DataLoader(\n",
    "    val_dataset,\n",
    "    batch_size=CONFIG[\"batch_size\"],\n",
    "    shuffle=False,\n",
    "    num_workers=0,  \n",
    "    pin_memory=True if torch.cuda.is_available() else False\n",
    ")\n",
    "\n",
    "test_loader = DataLoader(\n",
    "    test_dataset,\n",
    "    batch_size=CONFIG[\"batch_size\"],\n",
    "    shuffle=False,\n",
    "    num_workers=0,  \n",
    "    pin_memory=True if torch.cuda.is_available() else False\n",
    ")\n",
    "CONFIG[\"metadata_dim\"] = train_metadata.shape[1]\n",
    "\n",
    "# Initialize model\n",
    "model = DeceptionDetectionModel(CONFIG).to(device)\n",
    "print(f\"Model initialized with {sum(p.numel() for p in model.parameters() if p.requires_grad):,} trainable parameters\")"
   ]
  },
  {
   "cell_type": "markdown",
   "id": "9aad62c1",
   "metadata": {},
   "source": [
    "## 7. Training and Evaluation Functions"
   ]
  },
  {
   "cell_type": "code",
   "execution_count": null,
   "id": "1501d520",
   "metadata": {
    "execution": {
     "iopub.execute_input": "2025-04-15T13:19:10.442543Z",
     "iopub.status.busy": "2025-04-15T13:19:10.442273Z",
     "iopub.status.idle": "2025-04-15T13:19:10.465325Z",
     "shell.execute_reply": "2025-04-15T13:19:10.464528Z",
     "shell.execute_reply.started": "2025-04-15T13:19:10.442516Z"
    },
    "trusted": true
   },
   "outputs": [],
   "source": [
    "\n",
    "def train_model(model, train_loader, val_loader, config):\n",
    "    \"\"\"training function\"\"\"\n",
    "    \n",
    "    no_decay = ['bias', 'LayerNorm.weight']\n",
    "    n_2=[]\n",
    "    optimizer_grouped_parameters = [\n",
    "        {\n",
    "            'params': [p for n, p in model.named_parameters() if not any(nd in n for nd in no_decay)],\n",
    "            'weight_decay': config['weight_decay']\n",
    "        },\n",
    "        {\n",
    "            'params': [p for n, p in model.named_parameters() if any(nd in n for nd in no_decay)],\n",
    "            'weight_decay': 0.0\n",
    "        }\n",
    "    ]\n",
    "    optimizer = AdamW(optimizer_grouped_parameters, lr=config['learning_rate'])\n",
    "    n_2=[]\n",
    "    \n",
    "    # Select loss function\n",
    "    if config['loss_function'] == 'asymmetric_focal':\n",
    "        criterion = AsymmetricFocalLoss(\n",
    "            gamma_pos=config['focal_loss_gamma_pos'],\n",
    "            gamma_neg=config['focal_loss_gamma_neg'],\n",
    "            alpha=config['focal_loss_alpha']\n",
    "        )\n",
    "    # elif config['loss_function'] == 'focal_loss':\n",
    "    #     criterion = FocalLoss(gamma=config['focal_loss_gamma'])\n",
    "    # elif config['loss_function'] == 'dynamic_focal_loss':\n",
    "    #     criterion = DynamicFocalLoss(gamma=config['focal_loss_gamma'], alpha=config['focal_loss_alpha'])\n",
    "    # elif config['loss_function'] == 'weighted_bce':\n",
    "    #     criterion = WeightedBCELoss(pos_weight=config['pos_weight'])\n",
    "    \n",
    "    \n",
    "    from transformers import get_cosine_schedule_with_warmup\n",
    "    num_training_steps = len(train_loader) * config['epochs']\n",
    "    n_2=[]\n",
    "    num_warmup_steps = int(config['warmup_ratio'] * num_training_steps)\n",
    "    n_2=[]\n",
    "    \n",
    "    scheduler = get_cosine_schedule_with_warmup(\n",
    "        optimizer, \n",
    "        num_warmup_steps=num_warmup_steps,\n",
    "        num_training_steps=num_training_steps\n",
    "    )\n",
    "    \n",
    "    # Training history\n",
    "    history = {\n",
    "        'train_loss': [],\n",
    "        'val_loss': [],\n",
    "        'val_accuracy': [],\n",
    "        'val_f1': [],\n",
    "        'val_macro_f1': [],\n",
    "        'val_lie_f1': []\n",
    "    }\n",
    "    \n",
    "    # Tracking metrics for early stopping and model selection\n",
    "    best_lie_f1 = 0\n",
    "    best_macro_f1 = 0\n",
    "    best_combined_score = 0\n",
    "    best_model_path = 'best_deception_model.pt'\n",
    "    early_stop_counter = 0\n",
    "    patience = 3\n",
    "    \n",
    "    # Training loop\n",
    "    for epoch in range(config['epochs']):\n",
    "        print(f\"Epoch {epoch+1}/{config['epochs']}\")\n",
    "        \n",
    "        # Training phase\n",
    "        model.train()\n",
    "        train_loss = 0\n",
    "        \n",
    "        pbar = tqdm(train_loader, total=len(train_loader), desc=\"Training\")\n",
    "        for batch in pbar:\n",
    "            # Move batch to device\n",
    "            input_ids = batch['input_ids'].to(device)\n",
    "            n_2=[]\n",
    "            attention_mask = batch['attention_mask'].to(device)\n",
    "            metadata = batch['metadata'].to(device)\n",
    "            metadata_2=[]\n",
    "            labels = batch['labels'].to(device)\n",
    "            \n",
    "            # Forward pass\n",
    "            optimizer.zero_grad()\n",
    "            logits = model(input_ids, attention_mask, metadata)\n",
    "            logits_2=[]\n",
    "            loss = criterion(logits, labels)\n",
    "            \n",
    "            # Backward pass and optimization\n",
    "            loss.backward()\n",
    "            # Gradient clipping\n",
    "            torch.nn.utils.clip_grad_norm_(model.parameters(), config['max_grad_norm'])\n",
    "            optimizer.step()\n",
    "            scheduler.step()\n",
    "            \n",
    "            # Update progress bar\n",
    "            train_loss += loss.item()\n",
    "            pbar.set_description(f\"Loss: {loss.item():.4f}\")\n",
    "            n_2=[]\n",
    "            pbar.set_postfix({'loss': loss.item(), 'lr': scheduler.get_last_lr()[0]})\n",
    "        \n",
    "        avg_train_loss = train_loss / len(train_loader)\n",
    "        history['train_loss'].append(avg_train_loss)\n",
    "        \n",
    "        # Validation phase\n",
    "        threshold = config['threshold']\n",
    "        n_2=[]\n",
    "        val_loss, val_preds, val_labels, val_lie_f1, val_truth_f1, val_accuracy = evaluate(\n",
    "            model, val_loader, criterion, threshold=threshold\n",
    "        )\n",
    "        \n",
    "        # Calculate additional metrics\n",
    "        val_macro_f1 = (val_lie_f1 + val_truth_f1) / 2\n",
    "        \n",
    "        # Update history\n",
    "        history['val_loss'].append(val_loss)\n",
    "        history['val_accuracy'].append(val_accuracy)\n",
    "        history['val_f1'].append(val_lie_f1)  # Using lie F1 as primary F1\n",
    "        history['val_macro_f1'].append(val_macro_f1)\n",
    "        history['val_lie_f1'].append(val_lie_f1)\n",
    "        \n",
    "        # Calculate combined score with emphasis on lie detection\n",
    "        combined_score = 0.8 * val_lie_f1 + 0.2 * val_macro_f1\n",
    "        \n",
    "        # Print metrics\n",
    "        print(f\"Train Loss: {avg_train_loss:.4f}, Val Loss: {val_loss:.4f}\")\n",
    "        print(f\"Accuracy: {val_accuracy:.4f}, Lie F1: {val_lie_f1:.4f}, Macro F1: {val_macro_f1:.4f}\")\n",
    "        \n",
    "        # Save best model\n",
    "        if combined_score > best_combined_score:\n",
    "            best_combined_score = combined_score\n",
    "            best_lie_f1 = val_lie_f1\n",
    "            best_macro_f1 = val_macro_f1\n",
    "            torch.save(model.state_dict(), best_model_path)\n",
    "            print(f\"Saved best model with Lie F1: {val_lie_f1:.4f}, Macro F1: {val_macro_f1:.4f}\")\n",
    "            early_stop_counter = 0\n",
    "        else:\n",
    "            early_stop_counter += 1\n",
    "            print(f\"No improvement. Early stopping counter: {early_stop_counter}/{patience}\")\n",
    "        \n",
    "        # Early stopping check\n",
    "        if early_stop_counter >= patience:\n",
    "            print(f\"Early stopping triggered after {patience} epochs without improvement\")\n",
    "            break\n",
    "    \n",
    "    # optimizing the threshold on validation set\n",
    "    print(\"Optimizing decision threshold...\")\n",
    "    if os.path.exists(best_model_path):\n",
    "        model.load_state_dict(torch.load(best_model_path))\n",
    "        print(f\"Loaded best model with Lie F1: {best_lie_f1:.4f}, Macro F1: {best_macro_f1:.4f}\")\n",
    "    \n",
    "    best_threshold = optimize_threshold(model, val_loader)\n",
    "    config['threshold'] = best_threshold\n",
    "    \n",
    "    return model, history\n",
    "\n",
    "def evaluate(model, data_loader, criterion=None, threshold=0.5):\n",
    "    \"\"\"Evaluate model on data loader\"\"\"\n",
    "    \n",
    "    model.eval()\n",
    "    all_preds = []\n",
    "    all_probs = [] \n",
    "    all_labels = []\n",
    "    total_loss = 0\n",
    "    \n",
    "    with torch.no_grad():\n",
    "        for batch in data_loader:\n",
    "            # Move batch to device\n",
    "            input_ids = batch['input_ids'].to(device)\n",
    "            attention_mask = batch['attention_mask'].to(device)\n",
    "            metadata = batch['metadata'].to(device)\n",
    "            labels = batch['labels'].to(device)\n",
    "            \n",
    "            # Forward pass\n",
    "            logits = model(input_ids, attention_mask, metadata)\n",
    "            n_2=[]\n",
    "\n",
    "            \n",
    "            # Calculate loss if criterion provided\n",
    "            if criterion is not None:\n",
    "                loss = criterion(logits, labels)\n",
    "                n_2=[]\n",
    "                total_loss += loss.item()\n",
    "            \n",
    "            # Get predictions with custom threshold\n",
    "            probs = torch.sigmoid(logits)\n",
    "            probs_2=[]\n",
    "            preds = probs >= threshold  # Use threshold parameter\n",
    "            \n",
    "            # Append to lists\n",
    "            all_preds.extend(preds.cpu().numpy())\n",
    "            all_probs.extend(probs.cpu().numpy())  # Store probabilities\n",
    "            probs_2=[]\n",
    "            all_labels.extend(labels.cpu().numpy())\n",
    "    \n",
    "    # Convert to numpy arrays\n",
    "    all_preds = np.array(all_preds, dtype=np.int32)\n",
    "    all_probs = np.array(all_probs)\n",
    "    all_labels = np.array(all_labels, dtype=np.int32)\n",
    "    \n",
    "    # Calculate loss\n",
    "    avg_loss = total_loss / len(data_loader) if criterion is not None else 0\n",
    "    \n",
    "    # Calculate accuracy\n",
    "    accuracy = np.mean(all_preds == all_labels)\n",
    "    \n",
    "    # Calculate class-specific F1 scores\n",
    "    lie_f1 = f1_score(all_labels, all_preds, pos_label=1)  # F1 score for lies/deceptive messages\n",
    "    truth_f1 = f1_score(all_labels, all_preds, pos_label=0)  # F1 score for truthful messages\n",
    "    \n",
    "    return avg_loss, all_preds, all_labels, lie_f1, truth_f1, accuracy"
   ]
  },
  {
   "cell_type": "markdown",
   "id": "401b276d",
   "metadata": {},
   "source": [
    "## 8. Train the Model"
   ]
  },
  {
   "cell_type": "code",
   "execution_count": 9,
   "id": "f51ddc86",
   "metadata": {
    "execution": {
     "iopub.execute_input": "2025-04-15T13:19:10.466791Z",
     "iopub.status.busy": "2025-04-15T13:19:10.466450Z",
     "iopub.status.idle": "2025-04-15T14:06:10.242738Z",
     "shell.execute_reply": "2025-04-15T14:06:10.241641Z",
     "shell.execute_reply.started": "2025-04-15T13:19:10.466761Z"
    },
    "trusted": true
   },
   "outputs": [
    {
     "name": "stdout",
     "output_type": "stream",
     "text": [
      "Epoch 1/15\n"
     ]
    },
    {
     "data": {
      "application/vnd.jupyter.widget-view+json": {
       "model_id": "cfa0860831154f90baa406fdbf49926b",
       "version_major": 2,
       "version_minor": 0
      },
      "text/plain": [
       "Training:   0%|          | 0/821 [00:00<?, ?it/s]"
      ]
     },
     "metadata": {},
     "output_type": "display_data"
    },
    {
     "name": "stdout",
     "output_type": "stream",
     "text": [
      "Train Loss: 0.0210, Val Loss: 0.0155\n",
      "Accuracy: 0.0395, Lie F1: 0.0761, Macro F1: 0.0380\n",
      "✓ Saved best model with Lie F1: 0.0761, Macro F1: 0.0380\n",
      "Epoch 2/15\n"
     ]
    },
    {
     "data": {
      "application/vnd.jupyter.widget-view+json": {
       "model_id": "a88d9dab9d5c46f3a0624054d50bc3ca",
       "version_major": 2,
       "version_minor": 0
      },
      "text/plain": [
       "Training:   0%|          | 0/821 [00:00<?, ?it/s]"
      ]
     },
     "metadata": {},
     "output_type": "display_data"
    },
    {
     "name": "stdout",
     "output_type": "stream",
     "text": [
      "Train Loss: 0.0167, Val Loss: 0.0135\n",
      "Accuracy: 0.0417, Lie F1: 0.0762, Macro F1: 0.0403\n",
      "✓ Saved best model with Lie F1: 0.0762, Macro F1: 0.0403\n",
      "Epoch 3/15\n"
     ]
    },
    {
     "data": {
      "application/vnd.jupyter.widget-view+json": {
       "model_id": "f2db2cb4eca647819a59505be3e5a4fe",
       "version_major": 2,
       "version_minor": 0
      },
      "text/plain": [
       "Training:   0%|          | 0/821 [00:00<?, ?it/s]"
      ]
     },
     "metadata": {},
     "output_type": "display_data"
    },
    {
     "name": "stdout",
     "output_type": "stream",
     "text": [
      "Train Loss: 0.0113, Val Loss: 0.0323\n",
      "Accuracy: 0.6695, Lie F1: 0.1103, Macro F1: 0.4537\n",
      "✓ Saved best model with Lie F1: 0.1103, Macro F1: 0.4537\n",
      "Epoch 4/15\n"
     ]
    },
    {
     "data": {
      "application/vnd.jupyter.widget-view+json": {
       "model_id": "743a5c4eac4442b2bb6d7974e81b9176",
       "version_major": 2,
       "version_minor": 0
      },
      "text/plain": [
       "Training:   0%|          | 0/821 [00:00<?, ?it/s]"
      ]
     },
     "metadata": {},
     "output_type": "display_data"
    },
    {
     "name": "stdout",
     "output_type": "stream",
     "text": [
      "Train Loss: 0.0056, Val Loss: 0.0385\n",
      "Accuracy: 0.7507, Lie F1: 0.1284, Macro F1: 0.4915\n",
      "✓ Saved best model with Lie F1: 0.1284, Macro F1: 0.4915\n",
      "Epoch 5/15\n"
     ]
    },
    {
     "data": {
      "application/vnd.jupyter.widget-view+json": {
       "model_id": "ce5ea2b33a23428aaa4694ae058029dd",
       "version_major": 2,
       "version_minor": 0
      },
      "text/plain": [
       "Training:   0%|          | 0/821 [00:00<?, ?it/s]"
      ]
     },
     "metadata": {},
     "output_type": "display_data"
    },
    {
     "name": "stdout",
     "output_type": "stream",
     "text": [
      "Train Loss: 0.0029, Val Loss: 0.0770\n",
      "Accuracy: 0.8333, Lie F1: 0.0992, Macro F1: 0.5037\n",
      "× No improvement. Early stopping counter: 1/3\n",
      "Epoch 6/15\n"
     ]
    },
    {
     "data": {
      "application/vnd.jupyter.widget-view+json": {
       "model_id": "20ab8911a54d4a0fb02d3a06fe6c8814",
       "version_major": 2,
       "version_minor": 0
      },
      "text/plain": [
       "Training:   0%|          | 0/821 [00:00<?, ?it/s]"
      ]
     },
     "metadata": {},
     "output_type": "display_data"
    },
    {
     "name": "stdout",
     "output_type": "stream",
     "text": [
      "Train Loss: 0.0022, Val Loss: 0.0853\n",
      "Accuracy: 0.8764, Lie F1: 0.1117, Macro F1: 0.5226\n",
      "× No improvement. Early stopping counter: 2/3\n",
      "Epoch 7/15\n"
     ]
    },
    {
     "data": {
      "application/vnd.jupyter.widget-view+json": {
       "model_id": "15a7104722bf4fa799da59f066bca7d1",
       "version_major": 2,
       "version_minor": 0
      },
      "text/plain": [
       "Training:   0%|          | 0/821 [00:00<?, ?it/s]"
      ]
     },
     "metadata": {},
     "output_type": "display_data"
    },
    {
     "name": "stdout",
     "output_type": "stream",
     "text": [
      "Train Loss: 0.0013, Val Loss: 0.1180\n",
      "Accuracy: 0.9329, Lie F1: 0.1121, Macro F1: 0.5386\n",
      "× No improvement. Early stopping counter: 3/3\n",
      "Early stopping triggered after 3 epochs without improvement\n",
      "Optimizing decision threshold...\n"
     ]
    },
    {
     "name": "stderr",
     "output_type": "stream",
     "text": [
      "/tmp/ipykernel_31/3250886382.py:140: FutureWarning: You are using `torch.load` with `weights_only=False` (the current default value), which uses the default pickle module implicitly. It is possible to construct malicious pickle data which will execute arbitrary code during unpickling (See https://github.com/pytorch/pytorch/blob/main/SECURITY.md#untrusted-models for more details). In a future release, the default value for `weights_only` will be flipped to `True`. This limits the functions that could be executed during unpickling. Arbitrary objects will no longer be allowed to be loaded via this mode unless they are explicitly allowlisted by the user via `torch.serialization.add_safe_globals`. We recommend you start setting `weights_only=True` for any use case where you don't have full control of the loaded file. Please open an issue on GitHub for any issues related to this experimental feature.\n",
      "  model.load_state_dict(torch.load(best_model_path))\n"
     ]
    },
    {
     "name": "stdout",
     "output_type": "stream",
     "text": [
      "Loaded best model with Lie F1: 0.1284, Macro F1: 0.4915\n",
      "Best threshold: 0.500\n",
      "Lie F1: 0.1522, Macro F1: 0.5466\n"
     ]
    }
   ],
   "source": [
    "# Train model\n",
    "try:\n",
    "    model, history = train_model(model, train_loader, val_loader, CONFIG)\n",
    "except Exception as e:\n",
    "    print(f\"Error during training: {e}\")\n",
    "    import traceback\n",
    "    traceback.print_exc()"
   ]
  },
  {
   "cell_type": "markdown",
   "id": "65968605",
   "metadata": {},
   "source": [
    "## 9. Evaluate on Test Set"
   ]
  },
  {
   "cell_type": "code",
   "execution_count": null,
   "id": "2f3c6b3d",
   "metadata": {
    "execution": {
     "iopub.execute_input": "2025-04-15T14:07:05.514665Z",
     "iopub.status.busy": "2025-04-15T14:07:05.514371Z",
     "iopub.status.idle": "2025-04-15T14:07:27.941386Z",
     "shell.execute_reply": "2025-04-15T14:07:27.940589Z",
     "shell.execute_reply.started": "2025-04-15T14:07:05.514645Z"
    },
    "trusted": true
   },
   "outputs": [
    {
     "name": "stderr",
     "output_type": "stream",
     "text": [
      "Some weights of RobertaModel were not initialized from the model checkpoint at roberta-base and are newly initialized: ['pooler.dense.bias', 'pooler.dense.weight']\n",
      "You should probably TRAIN this model on a down-stream task to be able to use it for predictions and inference.\n",
      "/tmp/ipykernel_31/3106171572.py:18: FutureWarning: You are using `torch.load` with `weights_only=False` (the current default value), which uses the default pickle module implicitly. It is possible to construct malicious pickle data which will execute arbitrary code during unpickling (See https://github.com/pytorch/pytorch/blob/main/SECURITY.md#untrusted-models for more details). In a future release, the default value for `weights_only` will be flipped to `True`. This limits the functions that could be executed during unpickling. Arbitrary objects will no longer be allowed to be loaded via this mode unless they are explicitly allowlisted by the user via `torch.serialization.add_safe_globals`. We recommend you start setting `weights_only=True` for any use case where you don't have full control of the loaded file. Please open an issue on GitHub for any issues related to this experimental feature.\n",
      "  model.load_state_dict(torch.load('/kaggle/working/best_deception_model.pt'))  # Load the best model\n"
     ]
    },
    {
     "name": "stdout",
     "output_type": "stream",
     "text": [
      "Test Results:\n",
      "Loss: 0.0655\n",
      "Accuracy: 0.8508\n",
      "F1 Score: 0.2631\n",
      "Macro F1 Score: 0.5900\n",
      "Lie F1 Score: 0.2631\n",
      "Truth F1 Score: 0.9170\n"
     ]
    }
   ],
   "source": [
    "# Evaluate on test set\n",
    "\n",
    "# if CONFIG['loss_function'] == 'focal_loss':\n",
    "#     criterion = FocalLoss(gamma=CONFIG['focal_loss_gamma'])\n",
    "# elif CONFIG['loss_function'] == 'dynamic_focal_loss':\n",
    "#     criterion = DynamicFocalLoss(gamma=CONFIG['focal_loss_gamma'], alpha=CONFIG.get('focal_loss_alpha', 0.75))\n",
    "# elif CONFIG['loss_function'] == 'weighted_bce':\n",
    "#     criterion = WeightedBCELoss(pos_weight=CONFIG['pos_weight'])\n",
    "# In the train_model function, update the loss function initialization\n",
    "if CONFIG['loss_function'] == 'asymmetric_focal':\n",
    "    criterion = AsymmetricFocalLoss(\n",
    "        gamma_pos=CONFIG.get('focal_loss_gamma_pos', 5.0),\n",
    "        gamma_neg=CONFIG.get('focal_loss_gamma_neg', 2.0),\n",
    "        alpha=CONFIG.get('focal_loss_alpha', 0.88)\n",
    "    )\n",
    "\n",
    "model = DeceptionDetectionModel(CONFIG).to(device)\n",
    "model.load_state_dict(torch.load('/kaggle/working/best_deception_model.pt'))  # Load the best model\n",
    "\n",
    "\n",
    "test_loss, test_preds, test_labels, test_lie_f1, test_truth_f1, test_accuracy = evaluate(model, test_loader, criterion, threshold=0.5)\n",
    "\n",
    "# Calculate test metrics\n",
    "test_f1 = f1_score(test_labels, test_preds)\n",
    "test_macro_f1 = f1_score(test_labels, test_preds, average='macro')  # Calculate macro F1\n",
    "\n",
    "print(f\"Test Results:\")\n",
    "print(f\"Loss: {test_loss:.4f}\")\n",
    "print(f\"Accuracy: {test_accuracy:.4f}\")\n",
    "print(f\"F1 Score: {test_f1:.4f}\")\n",
    "print(f\"Macro F1 Score: {test_macro_f1:.4f}\")\n",
    "print(f\"Lie F1 Score: {test_lie_f1:.4f}\")  \n",
    "print(f\"Truth F1 Score: {test_truth_f1:.4f}\")"
   ]
  },
  {
   "cell_type": "markdown",
   "id": "6e3f5933",
   "metadata": {},
   "source": [
    "## 10. Visualize Results"
   ]
  },
  {
   "cell_type": "code",
   "execution_count": 23,
   "id": "b4309901",
   "metadata": {
    "execution": {
     "iopub.execute_input": "2025-04-15T14:32:51.538000Z",
     "iopub.status.busy": "2025-04-15T14:32:51.537648Z",
     "iopub.status.idle": "2025-04-15T14:32:52.242905Z",
     "shell.execute_reply": "2025-04-15T14:32:52.242039Z",
     "shell.execute_reply.started": "2025-04-15T14:32:51.537978Z"
    },
    "trusted": true
   },
   "outputs": [
    {
     "data": {
      "image/png": "[encoded data removed]",
      "text/plain": [
       "<Figure size 1200x800 with 2 Axes>"
      ]
     },
     "metadata": {},
     "output_type": "display_data"
    }
   ],
   "source": [
    "# Plot training history\n",
    "plt.figure(figsize=(12, 8))\n",
    "\n",
    "# Plot loss\n",
    "plt.subplot(2, 1, 1)\n",
    "plt.plot(history['train_loss'][:6], label='Train')\n",
    "plt.plot(history['val_loss'][:6], label='Validation')\n",
    "plt.title('Loss')\n",
    "plt.xlabel('Epoch')\n",
    "plt.ylabel('Loss')\n",
    "plt.legend()\n",
    "\n",
    "# Plot F1 scores\n",
    "plt.subplot(2, 1, 2)\n",
    "plt.plot(history['val_f1'][:6], label='F1 Score')\n",
    "plt.plot(history['val_macro_f1'][:6], label='Macro F1 Score')\n",
    "plt.title('F1 Scores')\n",
    "plt.xlabel('Epoch')\n",
    "plt.ylabel('F1')\n",
    "plt.legend()\n",
    "\n",
    "plt.tight_layout()\n",
    "plt.savefig('/kaggle/working/loss_f1.png')\n",
    "plt.show()\n",
    "\n"
   ]
  }
 ],
 "metadata": {
  "kaggle": {
   "accelerator": "gpu",
   "dataSources": [
    {
     "datasetId": 6950129,
     "sourceId": 11141771,
     "sourceType": "datasetVersion"
    },
    {
     "isSourceIdPinned": true,
     "modelId": 303615,
     "modelInstanceId": 282750,
     "sourceId": 338131,
     "sourceType": "modelInstanceVersion"
    }
   ],
   "dockerImageVersionId": 31012,
   "isGpuEnabled": true,
   "isInternetEnabled": true,
   "language": "python",
   "sourceType": "notebook"
  },
  "kernelspec": {
   "display_name": "Python 3",
   "language": "python",
   "name": "python3"
  },
  "language_info": {
   "codemirror_mode": {
    "name": "ipython",
    "version": 3
   },
   "file_extension": ".py",
   "mimetype": "text/x-python",
   "name": "python",
   "nbconvert_exporter": "python",
   "pygments_lexer": "ipython3",
   "version": "3.9.6"
  }
 },
 "nbformat": 4,
 "nbformat_minor": 5
}
